{
 "cells": [
  {
   "cell_type": "code",
   "execution_count": 1,
   "id": "648e9f2c",
   "metadata": {},
   "outputs": [
    {
     "data": {
      "text/plain": [
       "'\\n    MYSQL SQL문 연습....\\n    create & insert 후, \\n    조건에 따른 데이터 조회(SELECT) 연습\\n    다양한 조건 (GROUPBY, JOIN 등 사용)\\n'"
      ]
     },
     "execution_count": 1,
     "metadata": {},
     "output_type": "execute_result"
    }
   ],
   "source": [
    "\"\"\"\n",
    "    MYSQL SQL문 연습....\n",
    "    create & insert 후, \n",
    "    조건에 따른 데이터 조회(SELECT) 연습\n",
    "    다양한 조건 (GROUPBY, JOIN 등 사용)\n",
    "\"\"\""
   ]
  },
  {
   "cell_type": "code",
   "execution_count": 2,
   "id": "ce79afd7",
   "metadata": {},
   "outputs": [],
   "source": [
    "import pymysql\n",
    "import pandas as pd\n",
    "import numpy as np\n",
    "from config import *\n",
    "import uuid\n",
    "import datetime \n",
    "from itertools import product"
   ]
  },
  {
   "cell_type": "markdown",
   "id": "dde559f4",
   "metadata": {},
   "source": [
    "# 기본 쿼리 함수 정의"
   ]
  },
  {
   "cell_type": "code",
   "execution_count": 3,
   "id": "676d34fe",
   "metadata": {},
   "outputs": [],
   "source": [
    "def query(sql, data):\n",
    "    \"\"\"\n",
    "    DB에 SQL문 실행(query: 데이터베이스에 정보 요청)\n",
    "       Args:\n",
    "           sql(str): sql 구문\n",
    "           data(list or tuple): sql 파라미터. ex) [val1, val2 ...]\n",
    "       Returns:\n",
    "           query 결과. 결과가 없으면 빈 tuple 리턴\n",
    "    \"\"\"\n",
    "    # connect(): DB와 연결\n",
    "    db = pymysql.Connect(host=MYSQL_HOST, \n",
    "                     user=MYSQL_USER, \n",
    "                     password=MYSQL_PASSWORD, \n",
    "                     database=MYSQL_DATABASE,\n",
    "                     autocommit=MYSQL_AUTOCOMMIT, # Query 실행 후 자동 commit(실제 insert, update 반영)\n",
    "                     charset=MYSQL_CHARSET, # 인코딩 정보\n",
    "                     cursorclass=pymysql.cursors.DictCursor # DB를 조회한 결과를 Column 명이 Key인 Dictionary로 저장\n",
    "                    )\n",
    "    cursor = db.cursor()\n",
    "\n",
    "    cursor.execute(sql, data) \n",
    "    result = cursor.fetchall() # fetchall(): 모든 데이터를 한 번에 가져옴\n",
    "    db.close()\n",
    "    return result\n",
    "\n",
    "\n",
    "def many_query(sql, data):\n",
    "    \"\"\"\n",
    "    DB에 INSERTL sql문 다중 실행\n",
    "       Args:\n",
    "           sql(str): INSERT sql 구문\n",
    "           data(list or tuple): 다중 sql 파라미터. ex) [[val11, val12], [val21, val22]]\n",
    "       Returns:\n",
    "           query 결과. 결과가 없으면 빈 tuple 리턴\n",
    "    \"\"\"\n",
    "    \n",
    "    # connect(): DB와 연결\n",
    "    db = pymysql.Connect(host=MYSQL_HOST, \n",
    "                     user=MYSQL_USER, \n",
    "                     password=MYSQL_PASSWORD, \n",
    "                     database=MYSQL_DATABASE,\n",
    "                     autocommit=MYSQL_AUTOCOMMIT, # Query 실행 후 자동 commit(실제 insert, update 반영)\n",
    "                     charset=MYSQL_CHARSET, # 인코딩 정보\n",
    "                     cursorclass=pymysql.cursors.DictCursor # DB를 조회한 결과를 Column 명이 Key인 Dictionary로 저장\n",
    "                    )\n",
    "    cursor = db.cursor()\n",
    "\n",
    "    cursor.executemany(sql, data) \n",
    "    result = cursor.fetchall() # fetchall(): 모든 데이터를 한 번에 가져옴\n",
    "    db.close()\n",
    "    return result"
   ]
  },
  {
   "cell_type": "markdown",
   "id": "869c2d89",
   "metadata": {},
   "source": [
    "# DB에 CREATE 하기\n",
    "1. index: 자동 increase, Primary Key\n",
    "2. uuid: uuid 36자리 고정, unique key\n",
    "3. reg_date: 등록 일자(TIMESTAMP)\n",
    "4. name: 이름\n",
    "5. email: 이메일 주소\n",
    "6. phone: 폰 넘버 13자리 고정\n",
    "7. label: JSON 형태 text\n",
    "8. mark: JSON 형태 text()\n",
    "9. ext01: 여분 필드(추후 추가시 사용)\n",
    "\n",
    "- CHAR: 길이가 고정 혹은 일정 이하일 경우 설정\n",
    "- TEXT: 길이가 고정적이지 않을 경우 혹은 길 것 같은 경우"
   ]
  },
  {
   "cell_type": "code",
   "execution_count": 4,
   "id": "ad3aec14",
   "metadata": {},
   "outputs": [
    {
     "data": {
      "text/plain": [
       "()"
      ]
     },
     "execution_count": 4,
     "metadata": {},
     "output_type": "execute_result"
    }
   ],
   "source": [
    "# mysql에 테이블 create 코드\n",
    "query(\n",
    "      \"CREATE TABLE `\" + MYSQL_TABLENAME +\n",
    "    \"\"\"` (\n",
    "    `index` BIGINT(20) NOT NULL AUTO_INCREMENT,\n",
    "    `uuid` CHAR(36) NOT NULL DEFAULT '' COLLATE 'utf8_general_ci',\n",
    "    `reg_date` TIMESTAMP NOT NULL DEFAULT current_timestamp() ON UPDATE current_timestamp(),\n",
    "    `name` CHAR(255) NOT NULL COLLATE 'utf8_general_ci',\n",
    "    `email` CHAR(255) NOT NULL COLLATE 'utf8_general_ci',\n",
    "    `phone` CHAR(13) NOT NULL COLLATE 'utf8_general_ci',\n",
    "    `energy` INT(11) UNSIGNED ZEROFILL NOT NULL,\n",
    "    `label` MEDIUMTEXT NOT NULL COLLATE 'utf8_general_ci',\n",
    "    `mark` TEXT(65535) NOT NULL COLLATE 'utf8_general_ci',\n",
    "    `ext01` TEXT(65535) NOT NULL COLLATE 'utf8_general_ci',\n",
    "    PRIMARY KEY (`index`) USING BTREE,\n",
    "    UNIQUE INDEX `uuid` (`uuid`) USING BTREE\n",
    ")\n",
    "COLLATE='utf8_general_ci'\n",
    "ENGINE=InnoDB\n",
    ";\n",
    "\n",
    "      \"\"\", ())"
   ]
  },
  {
   "cell_type": "code",
   "execution_count": 5,
   "id": "facb4a13",
   "metadata": {},
   "outputs": [
    {
     "data": {
      "text/plain": [
       "()"
      ]
     },
     "execution_count": 5,
     "metadata": {},
     "output_type": "execute_result"
    }
   ],
   "source": [
    "query(\"SELECT * FROM \" + MYSQL_TABLENAME+ \";\", ())"
   ]
  },
  {
   "cell_type": "markdown",
   "id": "4d2fa9b4",
   "metadata": {},
   "source": [
    "# MYSQL INSERT 하기\n",
    "- 가정 1시간 마다 데이터 전송하여 저장\n",
    "- energy 필드는 랜덤\n",
    "- label은 추가 데이터 정보\n",
    "- mark, ext01은 empty"
   ]
  },
  {
   "cell_type": "code",
   "execution_count": 6,
   "id": "caeffab7",
   "metadata": {},
   "outputs": [],
   "source": [
    "np.random.seed(0) # generate 이전 random seed 설정"
   ]
  },
  {
   "cell_type": "code",
   "execution_count": 7,
   "id": "79ca215c",
   "metadata": {},
   "outputs": [],
   "source": [
    "def generate_data(hour = 0, name = \"홍길동\", email=\"hong@mysqltest.com\", phone = \"010-1234-5678\"):\n",
    "    result = []\n",
    "    uuid_hex = uuid.uuid1().hex\n",
    "    \n",
    "    now = datetime.datetime.utcnow().timestamp() - hour*60*60 # utc로 현재 시간 얻고 계산\n",
    "    reg_date = str(datetime.datetime.fromtimestamp(now))\n",
    "    \n",
    "    \n",
    "    name = name\n",
    "    email = email\n",
    "    phone = phone\n",
    "    energy = np.random.randint(100) # 100이해 random int 생성\n",
    "    \n",
    "    label_search_list = ['youtube', 'github', 'naver']\n",
    "    \n",
    "    # JSON 형태는 \"\"를 사용해야함\n",
    "    label = '[{\"search\": \"' + label_search_list[np.random.randint(3)] + '\"}, {\"viewing time\": \"' + str(np.random.randint(100)) + '\"}]'\n",
    "    mark = \"\"\n",
    "    ext01 = \"\"\n",
    "    result = [\n",
    "        uuid_hex,\n",
    "        reg_date,\n",
    "        name,\n",
    "        email,\n",
    "        phone,\n",
    "        energy,\n",
    "        label,\n",
    "        mark,\n",
    "        ext01\n",
    "    ]\n",
    "    return result"
   ]
  },
  {
   "cell_type": "markdown",
   "id": "075ca0e8",
   "metadata": {},
   "source": [
    "## generate simulation data"
   ]
  },
  {
   "cell_type": "code",
   "execution_count": 8,
   "id": "74f79ff0",
   "metadata": {},
   "outputs": [],
   "source": [
    "name_list = ['Kim', 'Lee', 'Choi']\n",
    "email_list = ['Kim@mysql.com', 'Lee@mysql.com', 'Choi@mysql.com']\n",
    "phone_list = ['010-1234-5678', '010-4567-8910', '010-9876-5432']\n",
    "data = []\n",
    "for idx, nl in enumerate(name_list):\n",
    "    for i in range(48): # 48: 3일 전까지 데이터 생성\n",
    "        data.append(generate_data(hour=i, name=name_list[idx], email=email_list[idx], phone=phone_list[idx]))"
   ]
  },
  {
   "cell_type": "markdown",
   "id": "b63760f0",
   "metadata": {},
   "source": [
    "## 생성후 time 순으로 정렬"
   ]
  },
  {
   "cell_type": "code",
   "execution_count": 9,
   "id": "d8849566",
   "metadata": {},
   "outputs": [],
   "source": [
    "def sortby(x, idx = 0, direc = 'ASC'):\n",
    "    if direc == 'ASC':\n",
    "        return sorted(x, key=lambda x: x[idx], reverse = False)\n",
    "    elif direc == 'DESC':\n",
    "        return sorted(x, key=lambda x: x[idx], reverse = True)\n",
    "data = sortby(data, idx = 1, direc = 'DESC')"
   ]
  },
  {
   "cell_type": "code",
   "execution_count": 10,
   "id": "87248ba1",
   "metadata": {},
   "outputs": [],
   "source": [
    "# # 1개 insert test\n",
    "# sql = \"INSERT INTO \" + MYSQL_TABLENAME + \"\"\" (uuid, reg_date, name, email, phone, energy, label, mark, ext01) \n",
    "# VALUES (%s,%s,%s,%s,%s,%s,%s,%s,%s);\"\"\"\n",
    "# data = generate_data()\n",
    "# print(data)\n",
    "# query(sql, data)"
   ]
  },
  {
   "cell_type": "markdown",
   "id": "59c7583f",
   "metadata": {},
   "source": [
    "## data insert using many_query"
   ]
  },
  {
   "cell_type": "code",
   "execution_count": 11,
   "id": "72b8355f",
   "metadata": {},
   "outputs": [
    {
     "data": {
      "text/plain": [
       "()"
      ]
     },
     "execution_count": 11,
     "metadata": {},
     "output_type": "execute_result"
    }
   ],
   "source": [
    "sql = \"INSERT INTO \" + MYSQL_TABLENAME + \"\"\" (uuid, reg_date, name, email, phone, energy, label, mark, ext01) \n",
    "VALUES (%s,%s,%s,%s,%s,%s,%s,%s,%s);\"\"\"\n",
    "many_query(sql, data)"
   ]
  },
  {
   "cell_type": "markdown",
   "id": "39813791",
   "metadata": {},
   "source": [
    "## check data"
   ]
  },
  {
   "cell_type": "code",
   "execution_count": 12,
   "id": "655e05cc",
   "metadata": {},
   "outputs": [],
   "source": [
    "result = query(\"SELECT * FROM \" + MYSQL_TABLENAME +\" where name=%s;\", ['Kim'])\n",
    "result_df = pd.DataFrame(result)"
   ]
  },
  {
   "cell_type": "code",
   "execution_count": 13,
   "id": "6c5ef876",
   "metadata": {},
   "outputs": [
    {
     "name": "stdout",
     "output_type": "stream",
     "text": [
      "<class 'pandas.core.frame.DataFrame'>\n",
      "RangeIndex: 48 entries, 0 to 47\n",
      "Data columns (total 10 columns):\n",
      " #   Column    Non-Null Count  Dtype         \n",
      "---  ------    --------------  -----         \n",
      " 0   index     48 non-null     int64         \n",
      " 1   uuid      48 non-null     object        \n",
      " 2   reg_date  48 non-null     datetime64[ns]\n",
      " 3   name      48 non-null     object        \n",
      " 4   email     48 non-null     object        \n",
      " 5   phone     48 non-null     object        \n",
      " 6   energy    48 non-null     int64         \n",
      " 7   label     48 non-null     object        \n",
      " 8   mark      48 non-null     object        \n",
      " 9   ext01     48 non-null     object        \n",
      "dtypes: datetime64[ns](1), int64(2), object(7)\n",
      "memory usage: 3.9+ KB\n"
     ]
    }
   ],
   "source": [
    "result_df.info()"
   ]
  },
  {
   "cell_type": "code",
   "execution_count": 14,
   "id": "79f823ed",
   "metadata": {},
   "outputs": [
    {
     "data": {
      "text/html": [
       "<div>\n",
       "<style scoped>\n",
       "    .dataframe tbody tr th:only-of-type {\n",
       "        vertical-align: middle;\n",
       "    }\n",
       "\n",
       "    .dataframe tbody tr th {\n",
       "        vertical-align: top;\n",
       "    }\n",
       "\n",
       "    .dataframe thead th {\n",
       "        text-align: right;\n",
       "    }\n",
       "</style>\n",
       "<table border=\"1\" class=\"dataframe\">\n",
       "  <thead>\n",
       "    <tr style=\"text-align: right;\">\n",
       "      <th></th>\n",
       "      <th>index</th>\n",
       "      <th>uuid</th>\n",
       "      <th>reg_date</th>\n",
       "      <th>name</th>\n",
       "      <th>email</th>\n",
       "      <th>phone</th>\n",
       "      <th>energy</th>\n",
       "      <th>label</th>\n",
       "      <th>mark</th>\n",
       "      <th>ext01</th>\n",
       "    </tr>\n",
       "  </thead>\n",
       "  <tbody>\n",
       "    <tr>\n",
       "      <th>0</th>\n",
       "      <td>3</td>\n",
       "      <td>b1773ed9b46311edaa0240b076a1ec6b</td>\n",
       "      <td>2023-02-24 16:52:59</td>\n",
       "      <td>Kim</td>\n",
       "      <td>Kim@mysql.com</td>\n",
       "      <td>010-1234-5678</td>\n",
       "      <td>44</td>\n",
       "      <td>[{\"search\": \"github\"}, {\"viewing time\": \"64\"}]</td>\n",
       "      <td></td>\n",
       "      <td></td>\n",
       "    </tr>\n",
       "    <tr>\n",
       "      <th>1</th>\n",
       "      <td>6</td>\n",
       "      <td>b1773edab46311ed865640b076a1ec6b</td>\n",
       "      <td>2023-02-24 15:52:59</td>\n",
       "      <td>Kim</td>\n",
       "      <td>Kim@mysql.com</td>\n",
       "      <td>010-1234-5678</td>\n",
       "      <td>67</td>\n",
       "      <td>[{\"search\": \"github\"}, {\"viewing time\": \"83\"}]</td>\n",
       "      <td></td>\n",
       "      <td></td>\n",
       "    </tr>\n",
       "    <tr>\n",
       "      <th>2</th>\n",
       "      <td>9</td>\n",
       "      <td>b17765ebb46311ed924f40b076a1ec6b</td>\n",
       "      <td>2023-02-24 14:52:59</td>\n",
       "      <td>Kim</td>\n",
       "      <td>Kim@mysql.com</td>\n",
       "      <td>010-1234-5678</td>\n",
       "      <td>21</td>\n",
       "      <td>[{\"search\": \"naver\"}, {\"viewing time\": \"36\"}]</td>\n",
       "      <td></td>\n",
       "      <td></td>\n",
       "    </tr>\n",
       "    <tr>\n",
       "      <th>3</th>\n",
       "      <td>12</td>\n",
       "      <td>b17765ecb46311ed87ad40b076a1ec6b</td>\n",
       "      <td>2023-02-24 13:52:59</td>\n",
       "      <td>Kim</td>\n",
       "      <td>Kim@mysql.com</td>\n",
       "      <td>010-1234-5678</td>\n",
       "      <td>87</td>\n",
       "      <td>[{\"search\": \"naver\"}, {\"viewing time\": \"88\"}]</td>\n",
       "      <td></td>\n",
       "      <td></td>\n",
       "    </tr>\n",
       "    <tr>\n",
       "      <th>4</th>\n",
       "      <td>15</td>\n",
       "      <td>b17765edb46311edaaeb40b076a1ec6b</td>\n",
       "      <td>2023-02-24 12:52:59</td>\n",
       "      <td>Kim</td>\n",
       "      <td>Kim@mysql.com</td>\n",
       "      <td>010-1234-5678</td>\n",
       "      <td>88</td>\n",
       "      <td>[{\"search\": \"youtube\"}, {\"viewing time\": \"58\"}]</td>\n",
       "      <td></td>\n",
       "      <td></td>\n",
       "    </tr>\n",
       "  </tbody>\n",
       "</table>\n",
       "</div>"
      ],
      "text/plain": [
       "   index                              uuid            reg_date name  \\\n",
       "0      3  b1773ed9b46311edaa0240b076a1ec6b 2023-02-24 16:52:59  Kim   \n",
       "1      6  b1773edab46311ed865640b076a1ec6b 2023-02-24 15:52:59  Kim   \n",
       "2      9  b17765ebb46311ed924f40b076a1ec6b 2023-02-24 14:52:59  Kim   \n",
       "3     12  b17765ecb46311ed87ad40b076a1ec6b 2023-02-24 13:52:59  Kim   \n",
       "4     15  b17765edb46311edaaeb40b076a1ec6b 2023-02-24 12:52:59  Kim   \n",
       "\n",
       "           email          phone  energy  \\\n",
       "0  Kim@mysql.com  010-1234-5678      44   \n",
       "1  Kim@mysql.com  010-1234-5678      67   \n",
       "2  Kim@mysql.com  010-1234-5678      21   \n",
       "3  Kim@mysql.com  010-1234-5678      87   \n",
       "4  Kim@mysql.com  010-1234-5678      88   \n",
       "\n",
       "                                             label mark ext01  \n",
       "0   [{\"search\": \"github\"}, {\"viewing time\": \"64\"}]             \n",
       "1   [{\"search\": \"github\"}, {\"viewing time\": \"83\"}]             \n",
       "2    [{\"search\": \"naver\"}, {\"viewing time\": \"36\"}]             \n",
       "3    [{\"search\": \"naver\"}, {\"viewing time\": \"88\"}]             \n",
       "4  [{\"search\": \"youtube\"}, {\"viewing time\": \"58\"}]             "
      ]
     },
     "execution_count": 14,
     "metadata": {},
     "output_type": "execute_result"
    }
   ],
   "source": [
    "result_df.head()"
   ]
  },
  {
   "cell_type": "code",
   "execution_count": null,
   "id": "49938a7b",
   "metadata": {},
   "outputs": [],
   "source": []
  }
 ],
 "metadata": {
  "kernelspec": {
   "display_name": "Python 3 (ipykernel)",
   "language": "python",
   "name": "python3"
  },
  "language_info": {
   "codemirror_mode": {
    "name": "ipython",
    "version": 3
   },
   "file_extension": ".py",
   "mimetype": "text/x-python",
   "name": "python",
   "nbconvert_exporter": "python",
   "pygments_lexer": "ipython3",
   "version": "3.8.16"
  },
  "toc": {
   "base_numbering": 1,
   "nav_menu": {},
   "number_sections": true,
   "sideBar": true,
   "skip_h1_title": false,
   "title_cell": "Table of Contents",
   "title_sidebar": "Contents",
   "toc_cell": false,
   "toc_position": {},
   "toc_section_display": true,
   "toc_window_display": true
  }
 },
 "nbformat": 4,
 "nbformat_minor": 5
}
