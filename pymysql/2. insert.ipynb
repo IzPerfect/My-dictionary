{
 "cells": [
  {
   "cell_type": "markdown",
   "id": "6bd06684",
   "metadata": {},
   "source": [
    "# INSERT"
   ]
  },
  {
   "cell_type": "code",
   "execution_count": 1,
   "id": "d285033f",
   "metadata": {},
   "outputs": [],
   "source": [
    "import pymysql\n",
    "import pandas as pd\n",
    "import numpy as np\n",
    "from config import *\n",
    "import uuid\n",
    "import datetime \n",
    "from itertools import product"
   ]
  },
  {
   "cell_type": "code",
   "execution_count": 2,
   "id": "ae7140f0",
   "metadata": {},
   "outputs": [],
   "source": [
    "def query(sql, data):\n",
    "    \"\"\"\n",
    "    DB에 SQL문 실행(query: 데이터베이스에 정보 요청)\n",
    "       Args:\n",
    "           sql(str): sql 구문\n",
    "           data(list or tuple): sql 파라미터. ex) [val1, val2 ...]\n",
    "       Returns:\n",
    "           query 결과. 결과가 없으면 빈 tuple 리턴\n",
    "    \"\"\"\n",
    "    # connect(): DB와 연결\n",
    "    db = pymysql.Connect(host=MYSQL_HOST, \n",
    "                     user=MYSQL_USER, \n",
    "                     password=MYSQL_PASSWORD, \n",
    "                     database=MYSQL_DATABASE,\n",
    "                     autocommit=MYSQL_AUTOCOMMIT, # Query 실행 후 자동 commit(실제 insert, update 반영)\n",
    "                     charset=MYSQL_CHARSET, # 인코딩 정보\n",
    "                     cursorclass=pymysql.cursors.DictCursor # DB를 조회한 결과를 Column 명이 Key인 Dictionary로 저장\n",
    "                    )\n",
    "    cursor = db.cursor()\n",
    "\n",
    "    cursor.execute(sql, data) \n",
    "    result = cursor.fetchall() # fetchall(): 모든 데이터를 한 번에 가져옴\n",
    "    db.close()\n",
    "    return to_pandas(result)\n",
    "\n",
    "def to_pandas(result):\n",
    "    return pd.DataFrame(result)"
   ]
  },
  {
   "cell_type": "code",
   "execution_count": 3,
   "id": "f7f9c084",
   "metadata": {},
   "outputs": [
    {
     "name": "stdout",
     "output_type": "stream",
     "text": [
      "SELECT * FROM mytable;\n"
     ]
    },
    {
     "data": {
      "text/html": [
       "<div>\n",
       "<style scoped>\n",
       "    .dataframe tbody tr th:only-of-type {\n",
       "        vertical-align: middle;\n",
       "    }\n",
       "\n",
       "    .dataframe tbody tr th {\n",
       "        vertical-align: top;\n",
       "    }\n",
       "\n",
       "    .dataframe thead th {\n",
       "        text-align: right;\n",
       "    }\n",
       "</style>\n",
       "<table border=\"1\" class=\"dataframe\">\n",
       "  <thead>\n",
       "    <tr style=\"text-align: right;\">\n",
       "      <th></th>\n",
       "      <th>index</th>\n",
       "      <th>uuid</th>\n",
       "      <th>reg_date</th>\n",
       "      <th>name</th>\n",
       "      <th>email</th>\n",
       "      <th>phone</th>\n",
       "      <th>energy</th>\n",
       "      <th>label</th>\n",
       "      <th>mark</th>\n",
       "      <th>ext01</th>\n",
       "    </tr>\n",
       "  </thead>\n",
       "  <tbody>\n",
       "    <tr>\n",
       "      <th>0</th>\n",
       "      <td>1</td>\n",
       "      <td>b177b428b46311edbb8940b076a1ec6b</td>\n",
       "      <td>2023-02-24 16:52:59</td>\n",
       "      <td>Choi</td>\n",
       "      <td>Choi@mysql.com</td>\n",
       "      <td>010-9876-5432</td>\n",
       "      <td>35</td>\n",
       "      <td>[{\"search\": \"naver\"}, {\"viewing time\": \"30\"}]</td>\n",
       "      <td></td>\n",
       "      <td></td>\n",
       "    </tr>\n",
       "    <tr>\n",
       "      <th>1</th>\n",
       "      <td>2</td>\n",
       "      <td>b1778d08b46311edae6040b076a1ec6b</td>\n",
       "      <td>2023-02-24 16:52:59</td>\n",
       "      <td>Lee</td>\n",
       "      <td>Lee@mysql.com</td>\n",
       "      <td>010-4567-8910</td>\n",
       "      <td>80</td>\n",
       "      <td>[{\"search\": \"youtube\"}, {\"viewing time\": \"54\"}]</td>\n",
       "      <td></td>\n",
       "      <td></td>\n",
       "    </tr>\n",
       "    <tr>\n",
       "      <th>2</th>\n",
       "      <td>3</td>\n",
       "      <td>b1773ed9b46311edaa0240b076a1ec6b</td>\n",
       "      <td>2023-02-24 16:52:59</td>\n",
       "      <td>Kim</td>\n",
       "      <td>Kim@mysql.com</td>\n",
       "      <td>010-1234-5678</td>\n",
       "      <td>44</td>\n",
       "      <td>[{\"search\": \"github\"}, {\"viewing time\": \"64\"}]</td>\n",
       "      <td></td>\n",
       "      <td></td>\n",
       "    </tr>\n",
       "    <tr>\n",
       "      <th>3</th>\n",
       "      <td>4</td>\n",
       "      <td>b177b429b46311edbf3540b076a1ec6b</td>\n",
       "      <td>2023-02-24 15:52:59</td>\n",
       "      <td>Choi</td>\n",
       "      <td>Choi@mysql.com</td>\n",
       "      <td>010-9876-5432</td>\n",
       "      <td>29</td>\n",
       "      <td>[{\"search\": \"github\"}, {\"viewing time\": \"33\"}]</td>\n",
       "      <td></td>\n",
       "      <td></td>\n",
       "    </tr>\n",
       "    <tr>\n",
       "      <th>4</th>\n",
       "      <td>5</td>\n",
       "      <td>b1778d09b46311ed8d5f40b076a1ec6b</td>\n",
       "      <td>2023-02-24 15:52:59</td>\n",
       "      <td>Lee</td>\n",
       "      <td>Lee@mysql.com</td>\n",
       "      <td>010-4567-8910</td>\n",
       "      <td>0</td>\n",
       "      <td>[{\"search\": \"naver\"}, {\"viewing time\": \"19\"}]</td>\n",
       "      <td></td>\n",
       "      <td></td>\n",
       "    </tr>\n",
       "  </tbody>\n",
       "</table>\n",
       "</div>"
      ],
      "text/plain": [
       "   index                              uuid            reg_date  name  \\\n",
       "0      1  b177b428b46311edbb8940b076a1ec6b 2023-02-24 16:52:59  Choi   \n",
       "1      2  b1778d08b46311edae6040b076a1ec6b 2023-02-24 16:52:59   Lee   \n",
       "2      3  b1773ed9b46311edaa0240b076a1ec6b 2023-02-24 16:52:59   Kim   \n",
       "3      4  b177b429b46311edbf3540b076a1ec6b 2023-02-24 15:52:59  Choi   \n",
       "4      5  b1778d09b46311ed8d5f40b076a1ec6b 2023-02-24 15:52:59   Lee   \n",
       "\n",
       "            email          phone  energy  \\\n",
       "0  Choi@mysql.com  010-9876-5432      35   \n",
       "1   Lee@mysql.com  010-4567-8910      80   \n",
       "2   Kim@mysql.com  010-1234-5678      44   \n",
       "3  Choi@mysql.com  010-9876-5432      29   \n",
       "4   Lee@mysql.com  010-4567-8910       0   \n",
       "\n",
       "                                             label mark ext01  \n",
       "0    [{\"search\": \"naver\"}, {\"viewing time\": \"30\"}]             \n",
       "1  [{\"search\": \"youtube\"}, {\"viewing time\": \"54\"}]             \n",
       "2   [{\"search\": \"github\"}, {\"viewing time\": \"64\"}]             \n",
       "3   [{\"search\": \"github\"}, {\"viewing time\": \"33\"}]             \n",
       "4    [{\"search\": \"naver\"}, {\"viewing time\": \"19\"}]             "
      ]
     },
     "execution_count": 3,
     "metadata": {},
     "output_type": "execute_result"
    }
   ],
   "source": [
    "# 테이블의 전체 데이터를 select\n",
    "sql = \"SELECT * FROM \" + MYSQL_TABLENAME+ \";\"\n",
    "print(sql)\n",
    "select_all = query(sql, ())\n",
    "select_all.head()"
   ]
  },
  {
   "cell_type": "code",
   "execution_count": 4,
   "id": "0d6bdb79",
   "metadata": {},
   "outputs": [
    {
     "name": "stdout",
     "output_type": "stream",
     "text": [
      "SELECT * FROM mytable;\n"
     ]
    },
    {
     "data": {
      "text/html": [
       "<div>\n",
       "<style scoped>\n",
       "    .dataframe tbody tr th:only-of-type {\n",
       "        vertical-align: middle;\n",
       "    }\n",
       "\n",
       "    .dataframe tbody tr th {\n",
       "        vertical-align: top;\n",
       "    }\n",
       "\n",
       "    .dataframe thead th {\n",
       "        text-align: right;\n",
       "    }\n",
       "</style>\n",
       "<table border=\"1\" class=\"dataframe\">\n",
       "  <thead>\n",
       "    <tr style=\"text-align: right;\">\n",
       "      <th></th>\n",
       "      <th>index</th>\n",
       "      <th>uuid</th>\n",
       "      <th>reg_date</th>\n",
       "      <th>name</th>\n",
       "      <th>email</th>\n",
       "      <th>phone</th>\n",
       "      <th>energy</th>\n",
       "      <th>label</th>\n",
       "      <th>mark</th>\n",
       "      <th>ext01</th>\n",
       "    </tr>\n",
       "  </thead>\n",
       "  <tbody>\n",
       "    <tr>\n",
       "      <th>0</th>\n",
       "      <td>1</td>\n",
       "      <td>b177b428b46311edbb8940b076a1ec6b</td>\n",
       "      <td>2023-02-24 16:52:59</td>\n",
       "      <td>Choi</td>\n",
       "      <td>Choi@mysql.com</td>\n",
       "      <td>010-9876-5432</td>\n",
       "      <td>35</td>\n",
       "      <td>[{\"search\": \"naver\"}, {\"viewing time\": \"30\"}]</td>\n",
       "      <td></td>\n",
       "      <td></td>\n",
       "    </tr>\n",
       "    <tr>\n",
       "      <th>1</th>\n",
       "      <td>2</td>\n",
       "      <td>b1778d08b46311edae6040b076a1ec6b</td>\n",
       "      <td>2023-02-24 16:52:59</td>\n",
       "      <td>Lee</td>\n",
       "      <td>Lee@mysql.com</td>\n",
       "      <td>010-4567-8910</td>\n",
       "      <td>80</td>\n",
       "      <td>[{\"search\": \"youtube\"}, {\"viewing time\": \"54\"}]</td>\n",
       "      <td></td>\n",
       "      <td></td>\n",
       "    </tr>\n",
       "    <tr>\n",
       "      <th>2</th>\n",
       "      <td>3</td>\n",
       "      <td>b1773ed9b46311edaa0240b076a1ec6b</td>\n",
       "      <td>2023-02-24 16:52:59</td>\n",
       "      <td>Kim</td>\n",
       "      <td>Kim@mysql.com</td>\n",
       "      <td>010-1234-5678</td>\n",
       "      <td>44</td>\n",
       "      <td>[{\"search\": \"github\"}, {\"viewing time\": \"64\"}]</td>\n",
       "      <td></td>\n",
       "      <td></td>\n",
       "    </tr>\n",
       "    <tr>\n",
       "      <th>3</th>\n",
       "      <td>4</td>\n",
       "      <td>b177b429b46311edbf3540b076a1ec6b</td>\n",
       "      <td>2023-02-24 15:52:59</td>\n",
       "      <td>Choi</td>\n",
       "      <td>Choi@mysql.com</td>\n",
       "      <td>010-9876-5432</td>\n",
       "      <td>29</td>\n",
       "      <td>[{\"search\": \"github\"}, {\"viewing time\": \"33\"}]</td>\n",
       "      <td></td>\n",
       "      <td></td>\n",
       "    </tr>\n",
       "    <tr>\n",
       "      <th>4</th>\n",
       "      <td>5</td>\n",
       "      <td>b1778d09b46311ed8d5f40b076a1ec6b</td>\n",
       "      <td>2023-02-24 15:52:59</td>\n",
       "      <td>Lee</td>\n",
       "      <td>Lee@mysql.com</td>\n",
       "      <td>010-4567-8910</td>\n",
       "      <td>0</td>\n",
       "      <td>[{\"search\": \"naver\"}, {\"viewing time\": \"19\"}]</td>\n",
       "      <td></td>\n",
       "      <td></td>\n",
       "    </tr>\n",
       "  </tbody>\n",
       "</table>\n",
       "</div>"
      ],
      "text/plain": [
       "   index                              uuid            reg_date  name  \\\n",
       "0      1  b177b428b46311edbb8940b076a1ec6b 2023-02-24 16:52:59  Choi   \n",
       "1      2  b1778d08b46311edae6040b076a1ec6b 2023-02-24 16:52:59   Lee   \n",
       "2      3  b1773ed9b46311edaa0240b076a1ec6b 2023-02-24 16:52:59   Kim   \n",
       "3      4  b177b429b46311edbf3540b076a1ec6b 2023-02-24 15:52:59  Choi   \n",
       "4      5  b1778d09b46311ed8d5f40b076a1ec6b 2023-02-24 15:52:59   Lee   \n",
       "\n",
       "            email          phone  energy  \\\n",
       "0  Choi@mysql.com  010-9876-5432      35   \n",
       "1   Lee@mysql.com  010-4567-8910      80   \n",
       "2   Kim@mysql.com  010-1234-5678      44   \n",
       "3  Choi@mysql.com  010-9876-5432      29   \n",
       "4   Lee@mysql.com  010-4567-8910       0   \n",
       "\n",
       "                                             label mark ext01  \n",
       "0    [{\"search\": \"naver\"}, {\"viewing time\": \"30\"}]             \n",
       "1  [{\"search\": \"youtube\"}, {\"viewing time\": \"54\"}]             \n",
       "2   [{\"search\": \"github\"}, {\"viewing time\": \"64\"}]             \n",
       "3   [{\"search\": \"github\"}, {\"viewing time\": \"33\"}]             \n",
       "4    [{\"search\": \"naver\"}, {\"viewing time\": \"19\"}]             "
      ]
     },
     "execution_count": 4,
     "metadata": {},
     "output_type": "execute_result"
    }
   ],
   "source": [
    "# 테이블의 전체 데이터를 select\n",
    "sql = \"SELECT * FROM \" + MYSQL_TABLENAME+ \";\"\n",
    "print(sql)\n",
    "result = query(sql, ())\n",
    "result.head()"
   ]
  },
  {
   "cell_type": "markdown",
   "id": "318fa379",
   "metadata": {},
   "source": [
    "## INSERT IGNORE\n",
    "- 중복 키 에러가 발생했을 때 신규로 입력되는 레코드를 무시하는 방법(UNIQUE KEY가 지정되어 있어야함)"
   ]
  },
  {
   "cell_type": "code",
   "execution_count": 5,
   "id": "f4c0f18a",
   "metadata": {},
   "outputs": [],
   "source": [
    "uuid_hex = uuid.uuid4().hex\n",
    "now = datetime.datetime.utcnow().timestamp()# utc로 현재 시간 얻고 계산\n",
    "reg_date = str(datetime.datetime.fromtimestamp(now))"
   ]
  },
  {
   "cell_type": "code",
   "execution_count": 6,
   "id": "f535cc04",
   "metadata": {},
   "outputs": [],
   "source": [
    "result = [\n",
    "        uuid_hex,\n",
    "        reg_date,\n",
    "        \"test\",\n",
    "        \"test@mytable.com\",\n",
    "        \"123-4567-8910\",\n",
    "        100,\n",
    "        \"\"\"[{\"search\": \"naver\"}, {\"viewing time\": \"19\"}]\"\"\",\n",
    "        \"\",\n",
    "        \"\"\n",
    "    ]"
   ]
  },
  {
   "cell_type": "code",
   "execution_count": 7,
   "id": "264bcbcb",
   "metadata": {},
   "outputs": [],
   "source": [
    "data = result"
   ]
  },
  {
   "cell_type": "code",
   "execution_count": 8,
   "id": "68fafbf1",
   "metadata": {},
   "outputs": [
    {
     "data": {
      "text/plain": [
       "['bba9523e29854bb4a4ad05315dd997e4',\n",
       " '2023-02-25 19:57:00.856096',\n",
       " 'test',\n",
       " 'test@mytable.com',\n",
       " '123-4567-8910',\n",
       " 100,\n",
       " '[{\"search\": \"naver\"}, {\"viewing time\": \"19\"}]',\n",
       " '',\n",
       " '']"
      ]
     },
     "execution_count": 8,
     "metadata": {},
     "output_type": "execute_result"
    }
   ],
   "source": [
    "data"
   ]
  },
  {
   "cell_type": "code",
   "execution_count": 9,
   "id": "a9596896",
   "metadata": {},
   "outputs": [
    {
     "name": "stdout",
     "output_type": "stream",
     "text": [
      "Empty DataFrame\n",
      "Columns: []\n",
      "Index: []\n"
     ]
    }
   ],
   "source": [
    "sql = \"INSERT IGNORE INTO \" + MYSQL_TABLENAME + \"\"\" (uuid, reg_date, name, email, phone, energy, label, mark, ext01) \n",
    "VALUES (%s,%s,%s,%s,%s,%s,%s,%s,%s);\"\"\"\n",
    "result = query(sql, data)\n",
    "print(result)"
   ]
  },
  {
   "cell_type": "markdown",
   "id": "e7b984c9",
   "metadata": {},
   "source": [
    "## INSERT + WHERE NOT EXISTS\n",
    "- NOT EXISTS: 조건을 만족하는 데이터가 있는지 확인. 조건 만족 시, FLASE, 아니면 TRUE \n",
    "- 조건문을 활용한 INSERT"
   ]
  },
  {
   "cell_type": "code",
   "execution_count": 10,
   "id": "a99b3170",
   "metadata": {},
   "outputs": [
    {
     "name": "stdout",
     "output_type": "stream",
     "text": [
      "   3  4\n",
      "0  3  4\n"
     ]
    }
   ],
   "source": [
    "sql = \"\"\"SELECT \"3\",\"4\" WHERE TRUE;\"\"\"\n",
    "result = query(sql, ())\n",
    "print(result)"
   ]
  },
  {
   "cell_type": "code",
   "execution_count": 11,
   "id": "c0e77f77",
   "metadata": {},
   "outputs": [
    {
     "name": "stdout",
     "output_type": "stream",
     "text": [
      "Empty DataFrame\n",
      "Columns: []\n",
      "Index: []\n"
     ]
    }
   ],
   "source": [
    "sql = \"\"\"SELECT \"3\",\"4\" WHERE FALSE;\"\"\"\n",
    "result = query(sql, ())\n",
    "print(result)"
   ]
  },
  {
   "cell_type": "code",
   "execution_count": 12,
   "id": "cb495460",
   "metadata": {},
   "outputs": [
    {
     "name": "stdout",
     "output_type": "stream",
     "text": [
      "Empty DataFrame\n",
      "Columns: []\n",
      "Index: []\n"
     ]
    }
   ],
   "source": [
    "sql = \"INSERT INTO \" + MYSQL_TABLENAME + \"\"\" (uuid, reg_date, name, email, phone, energy, label, mark, ext01) \n",
    "SELECT %s,%s,%s,%s,%s,%s,%s,%s,%s WHERE NOT EXISTS (SELECT * FROM \"\"\"\\\n",
    "+MYSQL_TABLENAME+\\\n",
    "\"\"\" WHERE name = \"test\" and email=\"test@mytable.com\");\"\"\"\n",
    "result = query(sql, data)\n",
    "print(result)"
   ]
  },
  {
   "cell_type": "code",
   "execution_count": null,
   "id": "d43f912c",
   "metadata": {},
   "outputs": [],
   "source": []
  }
 ],
 "metadata": {
  "kernelspec": {
   "display_name": "Python [conda env:mysql] *",
   "language": "python",
   "name": "conda-env-mysql-py"
  },
  "language_info": {
   "codemirror_mode": {
    "name": "ipython",
    "version": 3
   },
   "file_extension": ".py",
   "mimetype": "text/x-python",
   "name": "python",
   "nbconvert_exporter": "python",
   "pygments_lexer": "ipython3",
   "version": "3.8.16"
  },
  "toc": {
   "base_numbering": 1,
   "nav_menu": {},
   "number_sections": true,
   "sideBar": true,
   "skip_h1_title": false,
   "title_cell": "Table of Contents",
   "title_sidebar": "Contents",
   "toc_cell": false,
   "toc_position": {},
   "toc_section_display": true,
   "toc_window_display": true
  }
 },
 "nbformat": 4,
 "nbformat_minor": 5
}
