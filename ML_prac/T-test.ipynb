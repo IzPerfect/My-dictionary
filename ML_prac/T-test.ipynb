{
 "cells": [
  {
   "cell_type": "markdown",
   "metadata": {},
   "source": [
    "# T-test & P-value"
   ]
  },
  {
   "cell_type": "markdown",
   "metadata": {},
   "source": [
    "1. T-test\n",
    "    - 두 집단 간의 평균의 차이가 유의미한 지 검증하는 통계방법\n",
    "2. P-value(유의확률)\n",
    "    - 귀무가설에서 주장한 바가 옳을 확률\n",
    "    - 검정통계량을 객관적인 0~1사이 확률 값으로 보여주는 지표\n",
    "        - 검정통계량은 귀무가설이 맞다는 전제 하에 얻은 통계량을 의미"
   ]
  },
  {
   "cell_type": "markdown",
   "metadata": {},
   "source": [
    "<b>왜 T-test가 필요한가??</b>\n",
    "* 단순 평균이 차이가 있는 것이 아닌 <u><b>통계적으로 차이가 있는가</b></u>를 보기 위함\n",
    "* 우리는 항상 모집단이 아닌 표본 데이터를 사용하여 예측"
   ]
  },
  {
   "cell_type": "markdown",
   "metadata": {},
   "source": [
    "<b>P-value에 관해<br></b>\n",
    "1. 유의 수준(P<0.05, P<0.01, P<0.001)보다 높다 -> 기무가설 채택(대립가설 기각) -> 두 집단 간 차이가 없다(유의적)\n",
    "2. 유의 수준보다 낮다 -> 기무가설 기각(대립가설 채택) -> 두 집단 간 차이가 있다(유의적)\n",
    "    * 모델링이 유의미(머신러닝 관점)\n",
    "    * 유의적: 독립변수가 종족변수에 영향을 준다"
   ]
  },
  {
   "cell_type": "markdown",
   "metadata": {},
   "source": [
    "## 2sample T-test steps:\n",
    "[참고사이트](https://towardsdatascience.com/inferential-statistics-series-t-test-using-numpy-2718f8f9bf2f)\n",
    "1. Determine a null and alternate hypothesis\n",
    "    - Null hypothesis(귀무(영)가설): a와 b는 같을 것이다(같은 집단이다)\n",
    "    - Alternate hypothesis(대립가설): a와 b는 다를 것이다(다른 집단이다)\n",
    "2. Collect sample data\n",
    "3. Determine a confidence interval and degrees of freedom\n",
    "    - df = n1 + n2 -2\n",
    "4. Calculate the t-statistic([참고1](https://blog.naver.com/istech7/50151098832), [참고2](https://www.statsdirect.co.uk/help/parametric_methods/utt.htm))\n",
    "5. Calcaulate the critical t-value from the t distribution(scipy사용)"
   ]
  },
  {
   "cell_type": "code",
   "execution_count": 1,
   "metadata": {},
   "outputs": [],
   "source": [
    "# Import 라이브러르\n",
    "import numpy as np\n",
    "from scipy import stats"
   ]
  },
  {
   "cell_type": "code",
   "execution_count": 2,
   "metadata": {},
   "outputs": [],
   "source": [
    "np.random.seed(1) # random seed 설정"
   ]
  },
  {
   "cell_type": "markdown",
   "metadata": {},
   "source": [
    "1. 귀무가설: a와 b는 같은 집단일 것이다\n",
    "2. collect sample data"
   ]
  },
  {
   "cell_type": "code",
   "execution_count": 3,
   "metadata": {},
   "outputs": [],
   "source": [
    "#Sample Size\n",
    "n1 = 10\n",
    "n2 = 10\n",
    "\n",
    "# mean = 2 and var = 1 인 집단 a\n",
    "a = np.random.randn(n1) + 2\n",
    "# mean = 0 and var = 1 인 집단 b\n",
    "b = np.random.randn(n2)"
   ]
  },
  {
   "cell_type": "markdown",
   "metadata": {},
   "source": [
    "3. Determain a confidence interval and degrees of freedom"
   ]
  },
  {
   "cell_type": "code",
   "execution_count": 4,
   "metadata": {},
   "outputs": [],
   "source": [
    "df = n1 + n2 - 2 "
   ]
  },
  {
   "cell_type": "markdown",
   "metadata": {},
   "source": [
    "4. Calculate the t-ststistic"
   ]
  },
  {
   "cell_type": "code",
   "execution_count": 5,
   "metadata": {},
   "outputs": [],
   "source": [
    "std_a = a.std(ddof=1)\n",
    "std_b = b.std(ddof=1)"
   ]
  },
  {
   "cell_type": "code",
   "execution_count": 6,
   "metadata": {},
   "outputs": [
    {
     "data": {
      "text/plain": [
       "2.0"
      ]
     },
     "execution_count": 6,
     "metadata": {},
     "output_type": "execute_result"
    }
   ],
   "source": [
    "np.sqrt(4)"
   ]
  },
  {
   "cell_type": "code",
   "execution_count": 7,
   "metadata": {},
   "outputs": [],
   "source": [
    "s_ab = np.sqrt(\n",
    "    ((n1-1)*std_a**2 + (n2-1)*std_b**2) / (n1+n2 - 2)\n",
    ")"
   ]
  },
  {
   "cell_type": "code",
   "execution_count": 8,
   "metadata": {},
   "outputs": [
    {
     "data": {
      "text/plain": [
       "1.158667764517823"
      ]
     },
     "execution_count": 8,
     "metadata": {},
     "output_type": "execute_result"
    }
   ],
   "source": [
    "s_ab"
   ]
  },
  {
   "cell_type": "code",
   "execution_count": 9,
   "metadata": {},
   "outputs": [],
   "source": [
    "t = (a.mean() - b.mean())/(s_ab*np.sqrt(1/n1 + 1/n2))"
   ]
  },
  {
   "cell_type": "code",
   "execution_count": 10,
   "metadata": {},
   "outputs": [],
   "source": [
    "p = 1 - stats.t.cdf(t,df=df)"
   ]
  },
  {
   "cell_type": "markdown",
   "metadata": {},
   "source": [
    "p-value가 0.05 이하이므로 통계적으로 두 집단의 평균은 다르다고 말할 수 있음"
   ]
  },
  {
   "cell_type": "code",
   "execution_count": 11,
   "metadata": {},
   "outputs": [
    {
     "name": "stdout",
     "output_type": "stream",
     "text": [
      "t = 3.999536029463021\n",
      "p = 0.0008406976098074281\n"
     ]
    }
   ],
   "source": [
    "print(\"t = \" + str(t))\n",
    "print(\"p = \" + str(2*p)) "
   ]
  },
  {
   "cell_type": "markdown",
   "metadata": {},
   "source": [
    " ## scipy function을 사용한 계산"
   ]
  },
  {
   "cell_type": "code",
   "execution_count": 12,
   "metadata": {},
   "outputs": [
    {
     "name": "stdout",
     "output_type": "stream",
     "text": [
      "t = 3.99953602946302\n",
      "p = 0.0008406976098075643\n"
     ]
    }
   ],
   "source": [
    "t2, p2 = stats.ttest_ind(a,b)\n",
    "print(\"t = \" + str(t2))\n",
    "print(\"p = \" + str(p2))"
   ]
  }
 ],
 "metadata": {
  "kernelspec": {
   "display_name": "Python [conda env:pytorch36] *",
   "language": "python",
   "name": "conda-env-pytorch36-py"
  },
  "language_info": {
   "codemirror_mode": {
    "name": "ipython",
    "version": 3
   },
   "file_extension": ".py",
   "mimetype": "text/x-python",
   "name": "python",
   "nbconvert_exporter": "python",
   "pygments_lexer": "ipython3",
   "version": "3.6.12"
  }
 },
 "nbformat": 4,
 "nbformat_minor": 4
}
