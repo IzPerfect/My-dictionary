{
 "cells": [
  {
   "cell_type": "code",
   "execution_count": 1,
   "metadata": {},
   "outputs": [
    {
     "name": "stdout",
     "output_type": "stream",
     "text": [
      "1.4.0\n"
     ]
    }
   ],
   "source": [
    "import tensorflow as tf\n",
    "\n",
    "print(tf.__version__)"
   ]
  },
  {
   "cell_type": "markdown",
   "metadata": {},
   "source": [
    "get_shape는 tensor의 크기를 확인할 수 있다.<br />\n",
    "shape 또한 차원의 크기를 반환한다."
   ]
  },
  {
   "cell_type": "code",
   "execution_count": 2,
   "metadata": {},
   "outputs": [
    {
     "name": "stdout",
     "output_type": "stream",
     "text": [
      "x_get_shape :  (2, 3, 3, 1)\n",
      "x.shape :  [2 3 3 1]\n",
      "2 3 3 1\n",
      "Tensor(\"strided_slice:0\", shape=(), dtype=int32) Tensor(\"strided_slice_1:0\", shape=(), dtype=int32) Tensor(\"strided_slice_2:0\", shape=(), dtype=int32) Tensor(\"strided_slice_3:0\", shape=(), dtype=int32)\n"
     ]
    }
   ],
   "source": [
    "sess = tf.Session()\n",
    "\n",
    "x = tf.ones([2,3,3,1])\n",
    "x_get_shape = x.get_shape()\n",
    "x_shape = tf.shape(x)\n",
    "print('x_get_shape : ',x_get_shape)\n",
    "print('x.shape : ',sess.run(x_shape))\n",
    "\n",
    "print(x_get_shape[0],x_get_shape[1],x_get_shape[2],x_get_shape[3])\n",
    "print(x_shape[0],x_shape[1],x_shape[2],x_shape[3])"
   ]
  },
  {
   "cell_type": "code",
   "execution_count": 3,
   "metadata": {},
   "outputs": [
    {
     "name": "stdout",
     "output_type": "stream",
     "text": [
      "[1 1 1 1]\n",
      "[1 1 1 1]\n"
     ]
    }
   ],
   "source": [
    "ones_like1 = tf.ones_like(x_get_shape)\n",
    "print(sess.run(ones_like1))\n",
    "ones_like2 = tf.ones_like(x_shape)\n",
    "print(sess.run(ones_like2))"
   ]
  }
 ],
 "metadata": {
  "kernelspec": {
   "display_name": "Python 3",
   "language": "python",
   "name": "python3"
  },
  "language_info": {
   "codemirror_mode": {
    "name": "ipython",
    "version": 3
   },
   "file_extension": ".py",
   "mimetype": "text/x-python",
   "name": "python",
   "nbconvert_exporter": "python",
   "pygments_lexer": "ipython3",
   "version": "3.5.4"
  }
 },
 "nbformat": 4,
 "nbformat_minor": 2
}
