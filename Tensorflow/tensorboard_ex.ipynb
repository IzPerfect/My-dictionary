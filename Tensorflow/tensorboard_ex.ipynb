{
 "cells": [
  {
   "cell_type": "markdown",
   "metadata": {},
   "source": [
    "# Tensorboard 사용법"
   ]
  },
  {
   "cell_type": "markdown",
   "metadata": {},
   "source": [
    "참고 사이트: https://www.tensorflow.org/tensorboard/get_started"
   ]
  },
  {
   "cell_type": "code",
   "execution_count": 56,
   "metadata": {},
   "outputs": [],
   "source": [
    "import tensorflow as tf\n",
    "from tensorflow import keras\n",
    "from tensorflow.keras.datasets import mnist\n",
    "from tensorflow.keras.layers import Reshape, BatchNormalization, Input, MaxPooling2D, Dense, Activation,\\\n",
    "    Conv2D, Flatten\n",
    "from tensorflow.keras.models import Model\n",
    "from tensorflow.keras.optimizers import Adam\n",
    "import sys\n",
    "import datetime\n",
    "import numpy as np"
   ]
  },
  {
   "cell_type": "code",
   "execution_count": 2,
   "metadata": {},
   "outputs": [
    {
     "name": "stdout",
     "output_type": "stream",
     "text": [
      "Tensorflow version :  2.3.0\n",
      "System version :  sys.version_info(major=3, minor=7, micro=11, releaselevel='final', serial=0)\n"
     ]
    }
   ],
   "source": [
    "print('Tensorflow version : ', tf.__version__)\n",
    "print('System version : ', sys.version_info)"
   ]
  },
  {
   "cell_type": "code",
   "execution_count": 3,
   "metadata": {},
   "outputs": [],
   "source": [
    "(x_train, y_train), (x_test, y_test) = mnist.load_data()\n",
    "\n",
    "y_train = keras.utils.to_categorical(y_train)\n",
    "y_test = keras.utils.to_categorical(y_test)\n",
    "\n",
    "w, h = 28, 28\n",
    "\n",
    "x_train = x_train.reshape(-1, w, h, 1)\n",
    "x_test = x_test.reshape(-1, w, h, 1)\n",
    "\n",
    "x_train = x_train / 255.\n",
    "x_test = x_test / 255."
   ]
  },
  {
   "cell_type": "code",
   "execution_count": 4,
   "metadata": {},
   "outputs": [
    {
     "data": {
      "text/plain": [
       "(60000, 10)"
      ]
     },
     "execution_count": 4,
     "metadata": {},
     "output_type": "execute_result"
    }
   ],
   "source": [
    "y_train.shape"
   ]
  },
  {
   "cell_type": "code",
   "execution_count": 5,
   "metadata": {},
   "outputs": [
    {
     "data": {
      "text/plain": [
       "array([0., 0., 0., 0., 0., 1., 0., 0., 0., 0.], dtype=float32)"
      ]
     },
     "execution_count": 5,
     "metadata": {},
     "output_type": "execute_result"
    }
   ],
   "source": [
    "y_train[0]"
   ]
  },
  {
   "cell_type": "code",
   "execution_count": 6,
   "metadata": {},
   "outputs": [
    {
     "data": {
      "text/plain": [
       "(60000, 28, 28, 1)"
      ]
     },
     "execution_count": 6,
     "metadata": {},
     "output_type": "execute_result"
    }
   ],
   "source": [
    "x_train.shape"
   ]
  },
  {
   "cell_type": "code",
   "execution_count": 7,
   "metadata": {},
   "outputs": [],
   "source": [
    "def build(data_shape):\n",
    "    inputs = Input(data_shape)\n",
    "\n",
    "    x = Conv2D(32, (3, 3), padding='same')(inputs)\n",
    "    x = Activation('relu')(x)\n",
    "\n",
    "    x = Conv2D(64, (3, 3), padding='same')(x)\n",
    "    x = Activation('relu')(x)\n",
    "\n",
    "    x = Flatten()(x)\n",
    "    x = Dense(10)(x)\n",
    "    x = Activation('sigmoid')(x)\n",
    "\n",
    "    model = Model(inputs = inputs, outputs = x)\n",
    "\n",
    "\n",
    "    return model"
   ]
  },
  {
   "cell_type": "code",
   "execution_count": 8,
   "metadata": {},
   "outputs": [],
   "source": [
    "model = build(x_train.shape[1:])"
   ]
  },
  {
   "cell_type": "code",
   "execution_count": 9,
   "metadata": {},
   "outputs": [
    {
     "name": "stdout",
     "output_type": "stream",
     "text": [
      "Model: \"functional_1\"\n",
      "_________________________________________________________________\n",
      "Layer (type)                 Output Shape              Param #   \n",
      "=================================================================\n",
      "input_1 (InputLayer)         [(None, 28, 28, 1)]       0         \n",
      "_________________________________________________________________\n",
      "conv2d (Conv2D)              (None, 28, 28, 32)        320       \n",
      "_________________________________________________________________\n",
      "activation (Activation)      (None, 28, 28, 32)        0         \n",
      "_________________________________________________________________\n",
      "conv2d_1 (Conv2D)            (None, 28, 28, 64)        18496     \n",
      "_________________________________________________________________\n",
      "activation_1 (Activation)    (None, 28, 28, 64)        0         \n",
      "_________________________________________________________________\n",
      "flatten (Flatten)            (None, 50176)             0         \n",
      "_________________________________________________________________\n",
      "dense (Dense)                (None, 10)                501770    \n",
      "_________________________________________________________________\n",
      "activation_2 (Activation)    (None, 10)                0         \n",
      "=================================================================\n",
      "Total params: 520,586\n",
      "Trainable params: 520,586\n",
      "Non-trainable params: 0\n",
      "_________________________________________________________________\n"
     ]
    }
   ],
   "source": [
    "model.summary()"
   ]
  },
  {
   "cell_type": "code",
   "execution_count": 10,
   "metadata": {},
   "outputs": [],
   "source": [
    "model.compile(optimizer=\"adam\", loss=\"binary_crossentropy\", metrics = ['acc'])"
   ]
  },
  {
   "cell_type": "code",
   "execution_count": 15,
   "metadata": {},
   "outputs": [],
   "source": [
    "EPOCHS = 5\n",
    "BATCH_SIZE = 256"
   ]
  },
  {
   "cell_type": "markdown",
   "metadata": {},
   "source": [
    "## tensorboard with Keras Model.fit()"
   ]
  },
  {
   "cell_type": "code",
   "execution_count": 11,
   "metadata": {},
   "outputs": [],
   "source": [
    "# Load the TensorBoard notebook extension.\n",
    "%load_ext tensorboard"
   ]
  },
  {
   "cell_type": "code",
   "execution_count": 12,
   "metadata": {},
   "outputs": [],
   "source": [
    "log_dir = \"logs/fit/\" + datetime.datetime.now().strftime(\"%Y%m%d-%H%M%S\")\n",
    "tensorboard_callback = tf.keras.callbacks.TensorBoard(log_dir=log_dir, histogram_freq=1)"
   ]
  },
  {
   "cell_type": "code",
   "execution_count": 13,
   "metadata": {
    "scrolled": false
   },
   "outputs": [
    {
     "name": "stdout",
     "output_type": "stream",
     "text": [
      "Epoch 1/10\n",
      "  1/235 [..............................] - ETA: 0s - loss: 0.6906 - acc: 0.1172WARNING:tensorflow:From C:\\ProgramData\\Anaconda3\\envs\\yolos\\lib\\site-packages\\tensorflow\\python\\ops\\summary_ops_v2.py:1277: stop (from tensorflow.python.eager.profiler) is deprecated and will be removed after 2020-07-01.\n",
      "Instructions for updating:\n",
      "use `tf.profiler.experimental.stop` instead.\n",
      "  2/235 [..............................] - ETA: 8s - loss: 0.6025 - acc: 0.1426WARNING:tensorflow:Callbacks method `on_train_batch_end` is slow compared to the batch time (batch time: 0.0060s vs `on_train_batch_end` time: 0.0680s). Check your callbacks.\n",
      "235/235 [==============================] - 3s 14ms/step - loss: 0.0722 - acc: 0.9082 - val_loss: 0.0191 - val_acc: 0.9780\n",
      "Epoch 2/10\n",
      "235/235 [==============================] - 3s 12ms/step - loss: 0.0173 - acc: 0.9805 - val_loss: 0.0144 - val_acc: 0.9829\n",
      "Epoch 3/10\n",
      "235/235 [==============================] - 3s 12ms/step - loss: 0.0126 - acc: 0.9861 - val_loss: 0.0116 - val_acc: 0.9877\n",
      "Epoch 4/10\n",
      "235/235 [==============================] - 3s 12ms/step - loss: 0.0099 - acc: 0.9896 - val_loss: 0.0107 - val_acc: 0.9875\n",
      "Epoch 5/10\n",
      "235/235 [==============================] - 3s 12ms/step - loss: 0.0080 - acc: 0.9922 - val_loss: 0.0101 - val_acc: 0.9880\n",
      "Epoch 6/10\n",
      "235/235 [==============================] - 3s 12ms/step - loss: 0.0066 - acc: 0.9939 - val_loss: 0.0108 - val_acc: 0.9881\n",
      "Epoch 7/10\n",
      "235/235 [==============================] - 3s 12ms/step - loss: 0.0056 - acc: 0.9945 - val_loss: 0.0106 - val_acc: 0.9893\n",
      "Epoch 8/10\n",
      "235/235 [==============================] - 3s 12ms/step - loss: 0.0045 - acc: 0.9962 - val_loss: 0.0105 - val_acc: 0.9884\n",
      "Epoch 9/10\n",
      "235/235 [==============================] - 3s 12ms/step - loss: 0.0037 - acc: 0.9972 - val_loss: 0.0108 - val_acc: 0.9894\n",
      "Epoch 10/10\n",
      "235/235 [==============================] - 3s 12ms/step - loss: 0.0031 - acc: 0.9979 - val_loss: 0.0118 - val_acc: 0.9886\n"
     ]
    }
   ],
   "source": [
    "result = model.fit(x_train, y_train,epochs = EPOCHS, batch_size = BATCH_SIZE, validation_data = (x_test, y_test), verbose = 1, callbacks=[tensorboard_callback])"
   ]
  },
  {
   "cell_type": "code",
   "execution_count": 14,
   "metadata": {},
   "outputs": [
    {
     "name": "stdout",
     "output_type": "stream",
     "text": [
      "^C\n"
     ]
    }
   ],
   "source": [
    "!tensorboard --logdir logs/fit"
   ]
  },
  {
   "cell_type": "markdown",
   "metadata": {},
   "source": [
    "## tf.GradientTape with tf.summary()"
   ]
  },
  {
   "cell_type": "code",
   "execution_count": 95,
   "metadata": {},
   "outputs": [],
   "source": [
    "loss_object = tf.keras.losses.CategoricalCrossentropy() # one-hot vector에 사용\n",
    "\n",
    "train_loss = tf.keras.metrics.Mean('train_loss', dtype=tf.float32)\n",
    "train_accuracy = tf.keras.metrics.CategoricalAccuracy('train_accuracy')\n",
    "optimizer = tf.keras.optimizers.Adam()"
   ]
  },
  {
   "cell_type": "code",
   "execution_count": 100,
   "metadata": {},
   "outputs": [],
   "source": [
    "log_dir = \"logs/fit2/\" + datetime.datetime.now().strftime(\"%Y%m%d-%H%M%S\")\n",
    "train_summary_writer = tf.summary.create_file_writer(log_dir)"
   ]
  },
  {
   "cell_type": "code",
   "execution_count": 101,
   "metadata": {},
   "outputs": [],
   "source": [
    "def train_step(model, optimizer, x_train, y_train):\n",
    "    with tf.GradientTape() as tape:\n",
    "        predictions = model(x_train, training=True)\n",
    "        loss = loss_object(y_train, predictions)\n",
    "    grads = tape.gradient(loss, model.trainable_variables)\n",
    "    optimizer.apply_gradients(zip(grads, model.trainable_variables))\n",
    "    \n",
    "    train_accuracy(y_train, predictions)\n",
    "    train_loss(loss)\n",
    "        \n",
    "    return loss"
   ]
  },
  {
   "cell_type": "code",
   "execution_count": 102,
   "metadata": {},
   "outputs": [],
   "source": [
    "batchs = x_train.shape[0] // BATCH_SIZE"
   ]
  },
  {
   "cell_type": "code",
   "execution_count": 103,
   "metadata": {},
   "outputs": [
    {
     "data": {
      "text/plain": [
       "234"
      ]
     },
     "execution_count": 103,
     "metadata": {},
     "output_type": "execute_result"
    }
   ],
   "source": [
    "batchs"
   ]
  },
  {
   "cell_type": "code",
   "execution_count": 104,
   "metadata": {},
   "outputs": [],
   "source": [
    "model = build(x_train.shape[1:])\n",
    "model.compile(optimizer=\"adam\", loss=\"binary_crossentropy\", metrics = ['acc'])"
   ]
  },
  {
   "cell_type": "code",
   "execution_count": 105,
   "metadata": {
    "scrolled": true
   },
   "outputs": [
    {
     "name": "stdout",
     "output_type": "stream",
     "text": [
      "Epoch 1, Loss: 0.2717607617378235, Accuracy: 92.45793151855469\n",
      "Epoch 2, Loss: 0.07162335515022278, Accuracy: 95.15391540527344\n",
      "Epoch 3, Loss: 0.04829372465610504, Accuracy: 96.29351806640625\n",
      "Epoch 4, Loss: 0.03638845309615135, Accuracy: 96.95011901855469\n",
      "Epoch 5, Loss: 0.028411708772182465, Accuracy: 97.39649963378906\n"
     ]
    }
   ],
   "source": [
    "for epoch in range(EPOCHS):\n",
    "    epoch_loss = []\n",
    "    for i in range(batchs):\n",
    "        losses = train_step(model, optimizer, x_train[i*BATCH_SIZE:(i+1)*BATCH_SIZE], y_train[i*BATCH_SIZE:(i+1)*BATCH_SIZE])\n",
    "        epoch_loss.append(losses)\n",
    "        \n",
    "    with train_summary_writer.as_default():\n",
    "        tf.summary.scalar('loss', train_loss.result(), step=epoch)\n",
    "        tf.summary.scalar('accuracy', train_accuracy.result(), step=epoch)\n",
    "            \n",
    "            \n",
    "    template = 'Epoch {}, Loss: {}, Accuracy: {}'\n",
    "    print (template.format(epoch+1,np.mean(epoch_loss), train_accuracy.result()*100))"
   ]
  },
  {
   "cell_type": "code",
   "execution_count": 107,
   "metadata": {},
   "outputs": [
    {
     "name": "stdout",
     "output_type": "stream",
     "text": [
      "^C\n"
     ]
    }
   ],
   "source": [
    "!tensorboard --logdir logs/fit2 --port=9000"
   ]
  },
  {
   "cell_type": "code",
   "execution_count": null,
   "metadata": {},
   "outputs": [],
   "source": []
  }
 ],
 "metadata": {
  "kernelspec": {
   "display_name": "Python [conda env:yolos] *",
   "language": "python",
   "name": "conda-env-yolos-py"
  },
  "language_info": {
   "codemirror_mode": {
    "name": "ipython",
    "version": 3
   },
   "file_extension": ".py",
   "mimetype": "text/x-python",
   "name": "python",
   "nbconvert_exporter": "python",
   "pygments_lexer": "ipython3",
   "version": "3.7.11"
  }
 },
 "nbformat": 4,
 "nbformat_minor": 4
}
