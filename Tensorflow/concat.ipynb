{
 "cells": [
  {
   "cell_type": "code",
   "execution_count": 1,
   "metadata": {},
   "outputs": [
    {
     "name": "stdout",
     "output_type": "stream",
     "text": [
      "1.4.0\n"
     ]
    }
   ],
   "source": [
    "import tensorflow as tf\n",
    "import numpy as np\n",
    "print(tf.__version__)"
   ]
  },
  {
   "cell_type": "code",
   "execution_count": 2,
   "metadata": {},
   "outputs": [],
   "source": [
    "sess = tf.Session()"
   ]
  },
  {
   "cell_type": "code",
   "execution_count": 3,
   "metadata": {},
   "outputs": [
    {
     "name": "stdout",
     "output_type": "stream",
     "text": [
      "axis=0에서의 concat결과 : \n",
      " [[1 2]\n",
      " [3 4]]\n",
      "axis=1에서의 concat결과 : \n",
      " [[1 2 3 4]]\n",
      "shape of x1 :  (1, 2)\n",
      "shape of x2 :  (1, 2)\n",
      "shape of y1 :  (2, 2)\n",
      "shape of y2 :  (1, 4)\n"
     ]
    }
   ],
   "source": [
    "# 기본적으로 concat는 tensor를 붙이는데 사용한다.\n",
    "x1 = np.array([[1,2]])\n",
    "x2 = np.array([[3,4]])\n",
    "\n",
    "y1 = tf.concat([x1,x2],0)\n",
    "y2 = tf.concat([x1,x2],1)\n",
    "\n",
    "print('axis=0에서의 concat결과 : \\n',sess.run(y1))\n",
    "print('axis=1에서의 concat결과 : \\n',sess.run(y2))\n",
    "\n",
    "\n",
    "print('shape of x1 : ',x1.shape)\n",
    "print('shape of x2 : ',x2.shape)\n",
    "print('shape of y1 : ',y1.shape)\n",
    "print('shape of y2 : ',y2.shape)"
   ]
  },
  {
   "cell_type": "markdown",
   "metadata": {},
   "source": [
    "다차원 concat"
   ]
  },
  {
   "cell_type": "code",
   "execution_count": 4,
   "metadata": {},
   "outputs": [
    {
     "name": "stdout",
     "output_type": "stream",
     "text": [
      "shape of x :  (1, 1, 1, 10)\n",
      "x : \n",
      " [[[[ 1.  0.  0.  0.  0.  0.  0.  0.  0.  0.]]]]\n"
     ]
    }
   ],
   "source": [
    "x = tf.constant([1,0,0,0,0,0,0,0,0,0], dtype = tf.float32)\n",
    "x = tf.reshape(x,[1,1,1,10])\n",
    "\n",
    "print('shape of x : ',x.shape)\n",
    "print('x : \\n',sess.run(x))"
   ]
  },
  {
   "cell_type": "markdown",
   "metadata": {},
   "source": [
    "x*tf.ones([1,2,2,1], dtype = tf.float32) 이 연산에서 데이터 타입이 같아야한다."
   ]
  },
  {
   "cell_type": "code",
   "execution_count": 5,
   "metadata": {},
   "outputs": [
    {
     "name": "stdout",
     "output_type": "stream",
     "text": [
      "shape of y :  (1, 2, 2, 10)\n",
      "y : \n",
      " [[[[ 1.  0.  0.  0.  0.  0.  0.  0.  0.  0.]\n",
      "   [ 1.  0.  0.  0.  0.  0.  0.  0.  0.  0.]]\n",
      "\n",
      "  [[ 1.  0.  0.  0.  0.  0.  0.  0.  0.  0.]\n",
      "   [ 1.  0.  0.  0.  0.  0.  0.  0.  0.  0.]]]]\n"
     ]
    }
   ],
   "source": [
    "y = x*tf.ones([1,2,2,1], dtype = tf.float32) \n",
    "print('shape of y : ',y.shape)\n",
    "print('y : \\n',sess.run(y))"
   ]
  },
  {
   "cell_type": "markdown",
   "metadata": {},
   "source": [
    "[1,2,2,100]의 shape를 가진 z와 y의 concat"
   ]
  },
  {
   "cell_type": "code",
   "execution_count": 6,
   "metadata": {},
   "outputs": [
    {
     "name": "stdout",
     "output_type": "stream",
     "text": [
      "(1, 2, 2, 11)\n",
      "Z : \n",
      " [[[[ 1.  1.  0.  0.  0.  0.  0.  0.  0.  0.  0.]\n",
      "   [ 1.  1.  0.  0.  0.  0.  0.  0.  0.  0.  0.]]\n",
      "\n",
      "  [[ 1.  1.  0.  0.  0.  0.  0.  0.  0.  0.  0.]\n",
      "   [ 1.  1.  0.  0.  0.  0.  0.  0.  0.  0.  0.]]]]\n"
     ]
    }
   ],
   "source": [
    "z = tf.ones([1,2,2,1], dtype = tf.float32)\n",
    "\n",
    "Z = tf.concat([z,y],3)\n",
    "print(Z.shape)\n",
    "print('Z : \\n', sess.run(Z))"
   ]
  }
 ],
 "metadata": {
  "kernelspec": {
   "display_name": "Python 3",
   "language": "python",
   "name": "python3"
  },
  "language_info": {
   "codemirror_mode": {
    "name": "ipython",
    "version": 3
   },
   "file_extension": ".py",
   "mimetype": "text/x-python",
   "name": "python",
   "nbconvert_exporter": "python",
   "pygments_lexer": "ipython3",
   "version": "3.5.4"
  }
 },
 "nbformat": 4,
 "nbformat_minor": 2
}
