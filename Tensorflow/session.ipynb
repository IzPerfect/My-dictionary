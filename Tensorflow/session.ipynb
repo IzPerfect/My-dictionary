{
 "cells": [
  {
   "cell_type": "code",
   "execution_count": 1,
   "metadata": {},
   "outputs": [
    {
     "name": "stdout",
     "output_type": "stream",
     "text": [
      "1.2.1\n"
     ]
    }
   ],
   "source": [
    "import tensorflow as tf\n",
    "\n",
    "print(tf.__version__)"
   ]
  },
  {
   "cell_type": "markdown",
   "metadata": {},
   "source": [
    "tf.Session()에는 여러가지 옵션들이 있는데 대표적으로 자주 쓰이는 3가지 allow_soft_placement, gpu_options.allow_groth, per_process_gpu_memory_fraction, log_dveice_placement가 있습니다.\n",
    "\n",
    "\n",
    "allow_soft_placement : 명시된 디바이스가 존재하지 않는 경우 실행 디바이스를 Tensorflow가 자동으로 선택<br/>\n",
    "gpu_options.allow_growth : GPU메모리 증가 허용<br/>\n",
    "gpu_options.per_process_gpu_memory_fraction : GPU메모리의 일정부분만 할당<br/>\n",
    "log_device_placement : 연산, tensor가 어떤 디바이스에 배치 되었는지 확인"
   ]
  },
  {
   "cell_type": "code",
   "execution_count": 2,
   "metadata": {
    "collapsed": true
   },
   "outputs": [],
   "source": [
    "# 다음과 같이 사용될 수 있음\n",
    "sess = tf.Session(config=tf.ConfigProto(\n",
    "      allow_soft_placement=True, log_device_placement=True))\n",
    "\n",
    "config = tf.ConfigProto()\n",
    "config.gpu_options.allow_growth = True\n",
    "session = tf.Session(config=config)\n",
    "\n",
    "config = tf.ConfigProto()\n",
    "config.gpu_options.per_process_gpu_memory_fraction = 0.4\n",
    "session = tf.Session(config=config)\n",
    "\n",
    "sess = tf.Session(config=tf.ConfigProto(log_device_placement=True))"
   ]
  },
  {
   "cell_type": "markdown",
   "metadata": {},
   "source": [
    "함수로 만드는게 편리함"
   ]
  },
  {
   "cell_type": "code",
   "execution_count": 3,
   "metadata": {},
   "outputs": [],
   "source": [
    "def get_session():\n",
    "    config = tf.ConfigProto()\n",
    "    config.allow_soft_placement=True\n",
    "    config.gpu_options.allow_growth = False\n",
    "    config.log_device_placement=False\n",
    "    sess = tf.Session(config = config)\n",
    "    \n",
    "    return sess"
   ]
  },
  {
   "cell_type": "code",
   "execution_count": 4,
   "metadata": {},
   "outputs": [],
   "source": [
    "sess = get_session()"
   ]
  }
 ],
 "metadata": {
  "kernelspec": {
   "display_name": "Python 3",
   "language": "python",
   "name": "python3"
  },
  "language_info": {
   "codemirror_mode": {
    "name": "ipython",
    "version": 3
   },
   "file_extension": ".py",
   "mimetype": "text/x-python",
   "name": "python",
   "nbconvert_exporter": "python",
   "pygments_lexer": "ipython3",
   "version": "3.5.3"
  }
 },
 "nbformat": 4,
 "nbformat_minor": 2
}
