{
 "cells": [
  {
   "cell_type": "markdown",
   "metadata": {
    "id": "MRoDC-qHmXaN"
   },
   "source": [
    "# Model save and reuse in TF2\n",
    "1. 체크 포인트 저장하기 with fit()\n",
    "  \n",
    "  1.1 체크포인트 콜백 사용하기\n",
    "\n",
    "  1.2 수동으로 가중치 저장하기\n",
    "  \n",
    "  1.3 전체 모델 저장하기(savedmodel, hdf5) \n",
    "2. 체크 포인트 저장하기 with tf.GradientTape() as tape\n"
   ]
  },
  {
   "cell_type": "markdown",
   "metadata": {
    "id": "GjlZcrL2m1ZP"
   },
   "source": [
    "Reference\n",
    "- https://www.tensorflow.org/tutorials/keras/save_and_load?hl=ko\n",
    "- https://www.tensorflow.org/guide/checkpoint?hl=ko"
   ]
  },
  {
   "cell_type": "code",
   "execution_count": 1,
   "metadata": {
    "executionInfo": {
     "elapsed": 2905,
     "status": "ok",
     "timestamp": 1633960867145,
     "user": {
      "displayName": "양재완",
      "photoUrl": "https://lh3.googleusercontent.com/a/default-user=s64",
      "userId": "15048436168355041958"
     },
     "user_tz": -540
    },
    "id": "nHpTmgqrnKTZ"
   },
   "outputs": [],
   "source": [
    "import tensorflow as tf\n",
    "from tensorflow import keras\n",
    "from tensorflow.keras.datasets import mnist\n",
    "from tensorflow.keras.layers import Input, Dense, Activation, Conv2D, Flatten\n",
    "from tensorflow.keras.models import Model\n",
    "from tensorflow.keras.optimizers import Adam\n",
    "import sys\n",
    "import datetime\n",
    "import numpy as np\n",
    "import os\n",
    "import random"
   ]
  },
  {
   "cell_type": "code",
   "execution_count": 2,
   "metadata": {
    "executionInfo": {
     "elapsed": 9,
     "status": "ok",
     "timestamp": 1633960867145,
     "user": {
      "displayName": "양재완",
      "photoUrl": "https://lh3.googleusercontent.com/a/default-user=s64",
      "userId": "15048436168355041958"
     },
     "user_tz": -540
    },
    "id": "IosHWQIkvyl1"
   },
   "outputs": [],
   "source": [
    "# random seed settings\n",
    "setting_number = 777\n",
    "tf.random.set_seed(setting_number)\n",
    "np.random.seed(setting_number)\n",
    "random.seed(setting_number)"
   ]
  },
  {
   "cell_type": "code",
   "execution_count": 3,
   "metadata": {
    "colab": {
     "base_uri": "https://localhost:8080/"
    },
    "executionInfo": {
     "elapsed": 8,
     "status": "ok",
     "timestamp": 1633960867145,
     "user": {
      "displayName": "양재완",
      "photoUrl": "https://lh3.googleusercontent.com/a/default-user=s64",
      "userId": "15048436168355041958"
     },
     "user_tz": -540
    },
    "id": "GDLzHHTBnVk9",
    "outputId": "478fdd6b-3b92-4f81-f7e1-e26d842e6a44"
   },
   "outputs": [
    {
     "name": "stdout",
     "output_type": "stream",
     "text": [
      "Tensorflow version :  2.3.0\n",
      "System version :  sys.version_info(major=3, minor=7, micro=0, releaselevel='final', serial=0)\n"
     ]
    }
   ],
   "source": [
    "print('Tensorflow version : ', tf.__version__)\n",
    "print('System version : ', sys.version_info)"
   ]
  },
  {
   "cell_type": "code",
   "execution_count": 4,
   "metadata": {
    "colab": {
     "base_uri": "https://localhost:8080/"
    },
    "executionInfo": {
     "elapsed": 674,
     "status": "ok",
     "timestamp": 1633960867814,
     "user": {
      "displayName": "양재완",
      "photoUrl": "https://lh3.googleusercontent.com/a/default-user=s64",
      "userId": "15048436168355041958"
     },
     "user_tz": -540
    },
    "id": "uDDqNxcxnV75",
    "outputId": "177ce953-6d35-413a-b139-9bd1da624b7d"
   },
   "outputs": [],
   "source": [
    "# === Data Load === #\n",
    "(x_train, y_train), (x_test, y_test) = mnist.load_data()\n",
    "\n",
    "y_train = keras.utils.to_categorical(y_train)\n",
    "y_test = keras.utils.to_categorical(y_test)\n",
    "\n",
    "w, h = 28, 28\n",
    "\n",
    "x_train = x_train.reshape(-1, w, h, 1)\n",
    "x_test = x_test.reshape(-1, w, h, 1)\n",
    "\n",
    "x_train = x_train / 255.\n",
    "x_test = x_test / 255."
   ]
  },
  {
   "cell_type": "code",
   "execution_count": 5,
   "metadata": {},
   "outputs": [
    {
     "name": "stdout",
     "output_type": "stream",
     "text": [
      "(60000, 10)\n"
     ]
    }
   ],
   "source": [
    "print(y_train.shape)"
   ]
  },
  {
   "cell_type": "code",
   "execution_count": 6,
   "metadata": {
    "executionInfo": {
     "elapsed": 3,
     "status": "ok",
     "timestamp": 1633960867815,
     "user": {
      "displayName": "양재완",
      "photoUrl": "https://lh3.googleusercontent.com/a/default-user=s64",
      "userId": "15048436168355041958"
     },
     "user_tz": -540
    },
    "id": "rhePyCGfnXh9"
   },
   "outputs": [],
   "source": [
    "def build(data_shape):\n",
    "  # build simple CNN\n",
    "  inputs = Input(data_shape)\n",
    "\n",
    "  x = Conv2D(32, (3, 3), padding='same')(inputs)\n",
    "  x = Activation('relu')(x)\n",
    "\n",
    "  x = Conv2D(64, (3, 3), padding='same')(x)\n",
    "  x = Activation('relu')(x)\n",
    "\n",
    "  x = Flatten()(x)\n",
    "  x = Dense(10)(x)\n",
    "  x = Activation('softmax')(x)\n",
    "\n",
    "  model = Model(inputs = inputs, outputs = x)\n",
    "\n",
    "\n",
    "  return model"
   ]
  },
  {
   "cell_type": "code",
   "execution_count": 7,
   "metadata": {
    "executionInfo": {
     "elapsed": 5667,
     "status": "ok",
     "timestamp": 1633960873480,
     "user": {
      "displayName": "양재완",
      "photoUrl": "https://lh3.googleusercontent.com/a/default-user=s64",
      "userId": "15048436168355041958"
     },
     "user_tz": -540
    },
    "id": "O5yvpJKCnyln"
   },
   "outputs": [],
   "source": [
    "model = build(x_train.shape[1:])"
   ]
  },
  {
   "cell_type": "code",
   "execution_count": 8,
   "metadata": {
    "colab": {
     "base_uri": "https://localhost:8080/"
    },
    "executionInfo": {
     "elapsed": 10,
     "status": "ok",
     "timestamp": 1633960873481,
     "user": {
      "displayName": "양재완",
      "photoUrl": "https://lh3.googleusercontent.com/a/default-user=s64",
      "userId": "15048436168355041958"
     },
     "user_tz": -540
    },
    "id": "71PLlzfUn0Td",
    "outputId": "b724d118-42a4-4477-beac-a929df667f49"
   },
   "outputs": [
    {
     "name": "stdout",
     "output_type": "stream",
     "text": [
      "Model: \"functional_1\"\n",
      "_________________________________________________________________\n",
      "Layer (type)                 Output Shape              Param #   \n",
      "=================================================================\n",
      "input_1 (InputLayer)         [(None, 28, 28, 1)]       0         \n",
      "_________________________________________________________________\n",
      "conv2d (Conv2D)              (None, 28, 28, 32)        320       \n",
      "_________________________________________________________________\n",
      "activation (Activation)      (None, 28, 28, 32)        0         \n",
      "_________________________________________________________________\n",
      "conv2d_1 (Conv2D)            (None, 28, 28, 64)        18496     \n",
      "_________________________________________________________________\n",
      "activation_1 (Activation)    (None, 28, 28, 64)        0         \n",
      "_________________________________________________________________\n",
      "flatten (Flatten)            (None, 50176)             0         \n",
      "_________________________________________________________________\n",
      "dense (Dense)                (None, 10)                501770    \n",
      "_________________________________________________________________\n",
      "activation_2 (Activation)    (None, 10)                0         \n",
      "=================================================================\n",
      "Total params: 520,586\n",
      "Trainable params: 520,586\n",
      "Non-trainable params: 0\n",
      "_________________________________________________________________\n"
     ]
    }
   ],
   "source": [
    "model.summary()"
   ]
  },
  {
   "cell_type": "code",
   "execution_count": 9,
   "metadata": {
    "executionInfo": {
     "elapsed": 4,
     "status": "ok",
     "timestamp": 1633960873481,
     "user": {
      "displayName": "양재완",
      "photoUrl": "https://lh3.googleusercontent.com/a/default-user=s64",
      "userId": "15048436168355041958"
     },
     "user_tz": -540
    },
    "id": "1LY1B_kdoAu1"
   },
   "outputs": [],
   "source": [
    "# loss function settings\n",
    "model.compile(optimizer=\"adam\", loss=\"categorical_crossentropy\", metrics = ['acc'])"
   ]
  },
  {
   "cell_type": "code",
   "execution_count": 10,
   "metadata": {
    "executionInfo": {
     "elapsed": 3,
     "status": "ok",
     "timestamp": 1633960873481,
     "user": {
      "displayName": "양재완",
      "photoUrl": "https://lh3.googleusercontent.com/a/default-user=s64",
      "userId": "15048436168355041958"
     },
     "user_tz": -540
    },
    "id": "rq-vSosSoCsF"
   },
   "outputs": [],
   "source": [
    "# hyperparameter settings\n",
    "EPOCHS = 3\n",
    "BATCH_SIZE = 256"
   ]
  },
  {
   "cell_type": "markdown",
   "metadata": {
    "id": "AY78aUJIoDvi"
   },
   "source": [
    "# 1. 체크 포인트 저장하기 with fit()"
   ]
  },
  {
   "cell_type": "markdown",
   "metadata": {
    "id": "tUpabKifq51l"
   },
   "source": [
    "## 1.1. 체크포인트 콜백 사용하기"
   ]
  },
  {
   "cell_type": "code",
   "execution_count": 11,
   "metadata": {
    "executionInfo": {
     "elapsed": 3,
     "status": "ok",
     "timestamp": 1633960873481,
     "user": {
      "displayName": "양재완",
      "photoUrl": "https://lh3.googleusercontent.com/a/default-user=s64",
      "userId": "15048436168355041958"
     },
     "user_tz": -540
    },
    "id": "vUDhPPLerq1C"
   },
   "outputs": [],
   "source": [
    "# 사용 모델 정의\n",
    "model_ckpt = build(x_train.shape[1:])\n",
    "model_ckpt.compile(optimizer=\"adam\", loss=\"categorical_crossentropy\", metrics = ['acc'])# loss function settings"
   ]
  },
  {
   "cell_type": "code",
   "execution_count": 12,
   "metadata": {
    "colab": {
     "base_uri": "https://localhost:8080/"
    },
    "executionInfo": {
     "elapsed": 83150,
     "status": "ok",
     "timestamp": 1633960956628,
     "user": {
      "displayName": "양재완",
      "photoUrl": "https://lh3.googleusercontent.com/a/default-user=s64",
      "userId": "15048436168355041958"
     },
     "user_tz": -540
    },
    "id": "aJlEanFYrCeE",
    "outputId": "090b5668-3391-426e-97ef-65fb8397708c"
   },
   "outputs": [
    {
     "name": "stdout",
     "output_type": "stream",
     "text": [
      "Create Directory!\n",
      "Epoch 1/3\n",
      "1871/1875 [============================>.] - ETA: 0s - loss: 0.1154 - acc: 0.9649\n",
      "Epoch 00001: saving model to training_ckpt\\01-0.0570-0.9649.ckpt\n",
      "1875/1875 [==============================] - 7s 4ms/step - loss: 0.1153 - acc: 0.9649 - val_loss: 0.0570 - val_acc: 0.9817\n",
      "Epoch 2/3\n",
      "1874/1875 [============================>.] - ETA: 0s - loss: 0.0432 - acc: 0.9864\n",
      "Epoch 00002: saving model to training_ckpt\\02-0.0394-0.9864.ckpt\n",
      "1875/1875 [==============================] - 6s 3ms/step - loss: 0.0432 - acc: 0.9864 - val_loss: 0.0394 - val_acc: 0.9871\n",
      "Epoch 3/3\n",
      "1873/1875 [============================>.] - ETA: 0s - loss: 0.0272 - acc: 0.9916\n",
      "Epoch 00003: saving model to training_ckpt\\03-0.0452-0.9916.ckpt\n",
      "1875/1875 [==============================] - 7s 4ms/step - loss: 0.0272 - acc: 0.9916 - val_loss: 0.0452 - val_acc: 0.9867\n"
     ]
    },
    {
     "data": {
      "text/plain": [
       "<tensorflow.python.keras.callbacks.History at 0x2220a19ecc0>"
      ]
     },
     "execution_count": 12,
     "metadata": {},
     "output_type": "execute_result"
    }
   ],
   "source": [
    "checkpoint_path_dir = \"training_ckpt\"\n",
    "\n",
    "# 파일 이름에 번호를 포함시킵니다(`str.format` 포맷)\n",
    "cp_name = \"{epoch:02d}-{val_loss:.4f}-{acc:.4f}.ckpt\"\n",
    "if not(os.path.exists(checkpoint_path_dir)):\n",
    "  os.mkdir(checkpoint_path_dir)\n",
    "  print(\"Create Directory!\")\n",
    "\n",
    "checkpoint_path = os.path.join(checkpoint_path_dir, cp_name)\n",
    "\n",
    "# 모델의 가중치를 저장하는 콜백 만들기\n",
    "# validation loss가 가장 낮은 모델 저장\n",
    "cp_callback = tf.keras.callbacks.ModelCheckpoint(filepath=checkpoint_path,\n",
    "                                                 save_weights_only=True,\n",
    "                                                 monitor = 'val_loss',\n",
    "                                                 verbose=1)\n",
    "# # `checkpoint_path` 포맷을 사용하는 가중치를 저장합니다\n",
    "# model.save_weights(checkpoint_path.format(epoch=0))\n",
    "\n",
    "# 새로운 콜백으로 모델 학습\n",
    "model_ckpt.fit(x_train, \n",
    "          y_train,  \n",
    "          epochs=EPOCHS,\n",
    "          validation_data=(x_test,y_test),\n",
    "          callbacks=[cp_callback])  # 콜백을 훈련에 전달합니다"
   ]
  },
  {
   "cell_type": "code",
   "execution_count": 13,
   "metadata": {
    "colab": {
     "base_uri": "https://localhost:8080/",
     "height": 35
    },
    "executionInfo": {
     "elapsed": 13,
     "status": "ok",
     "timestamp": 1633960956629,
     "user": {
      "displayName": "양재완",
      "photoUrl": "https://lh3.googleusercontent.com/a/default-user=s64",
      "userId": "15048436168355041958"
     },
     "user_tz": -540
    },
    "id": "Xeg_se72xXzw",
    "outputId": "e67315f9-de43-405a-86c0-f8ea713ad0fa"
   },
   "outputs": [
    {
     "data": {
      "text/plain": [
       "'training_ckpt\\\\03-0.0452-0.9916.ckpt'"
      ]
     },
     "execution_count": 13,
     "metadata": {},
     "output_type": "execute_result"
    }
   ],
   "source": [
    "# latest model \n",
    "latest = tf.train.latest_checkpoint(checkpoint_path_dir)\n",
    "latest"
   ]
  },
  {
   "cell_type": "code",
   "execution_count": 14,
   "metadata": {
    "colab": {
     "base_uri": "https://localhost:8080/"
    },
    "executionInfo": {
     "elapsed": 1494,
     "status": "ok",
     "timestamp": 1633960958119,
     "user": {
      "displayName": "양재완",
      "photoUrl": "https://lh3.googleusercontent.com/a/default-user=s64",
      "userId": "15048436168355041958"
     },
     "user_tz": -540
    },
    "id": "DHMXpIHpwvhW",
    "outputId": "8f690886-6bdc-4aab-8117-dc3592274de6"
   },
   "outputs": [
    {
     "name": "stdout",
     "output_type": "stream",
     "text": [
      "313/313 - 1s - loss: 0.0452 - acc: 0.9867\n",
      "복원된 모델의 정확도: 98.67%\n"
     ]
    }
   ],
   "source": [
    "# 테스트 모델 만들기\n",
    "model_ckpt_test = build(x_train.shape[1:])\n",
    "model_ckpt_test.compile(optimizer=\"adam\", loss=\"categorical_crossentropy\", metrics = ['acc'])\n",
    "\n",
    "# 가중치 로드\n",
    "model_ckpt_test.load_weights(latest)\n",
    "\n",
    "# 모델 재평가\n",
    "loss,acc = model_ckpt_test.evaluate(x_test,  y_test, verbose=2)\n",
    "print(\"복원된 모델의 정확도: {:5.2f}%\".format(100*acc))"
   ]
  },
  {
   "cell_type": "markdown",
   "metadata": {
    "id": "HadrAPA2xaBL"
   },
   "source": [
    "## 1.2. 수동으로 가중치 저장하기"
   ]
  },
  {
   "cell_type": "code",
   "execution_count": 15,
   "metadata": {
    "executionInfo": {
     "elapsed": 2,
     "status": "ok",
     "timestamp": 1633960958119,
     "user": {
      "displayName": "양재완",
      "photoUrl": "https://lh3.googleusercontent.com/a/default-user=s64",
      "userId": "15048436168355041958"
     },
     "user_tz": -540
    },
    "id": "Z_7B2FNB1Y_W"
   },
   "outputs": [],
   "source": [
    "# 사용 모델 정의\n",
    "model_manual = build(x_train.shape[1:])\n",
    "model_manual.compile(optimizer=\"adam\", loss=\"categorical_crossentropy\", metrics = ['acc'])# loss function settings"
   ]
  },
  {
   "cell_type": "code",
   "execution_count": 16,
   "metadata": {
    "colab": {
     "base_uri": "https://localhost:8080/"
    },
    "executionInfo": {
     "elapsed": 43038,
     "status": "ok",
     "timestamp": 1633961001156,
     "user": {
      "displayName": "양재완",
      "photoUrl": "https://lh3.googleusercontent.com/a/default-user=s64",
      "userId": "15048436168355041958"
     },
     "user_tz": -540
    },
    "id": "Pvx8qbKt1ncs",
    "outputId": "3f123f36-e794-477c-f940-c79d609580ca"
   },
   "outputs": [
    {
     "name": "stdout",
     "output_type": "stream",
     "text": [
      "Create Directory!\n",
      "Epoch 1/3\n",
      "1875/1875 [==============================] - 7s 4ms/step - loss: 0.1166 - acc: 0.9645 - val_loss: 0.0559 - val_acc: 0.9814\n",
      "Epoch 2/3\n",
      "1875/1875 [==============================] - 6s 3ms/step - loss: 0.0419 - acc: 0.9867 - val_loss: 0.0418 - val_acc: 0.9860\n",
      "Epoch 3/3\n",
      "1875/1875 [==============================] - 6s 3ms/step - loss: 0.0275 - acc: 0.9912 - val_loss: 0.0428 - val_acc: 0.9871\n",
      "313/313 - 1s - loss: 0.0428 - acc: 0.9871\n",
      "복원된 모델의 정확도: 98.71%\n"
     ]
    }
   ],
   "source": [
    "checkpoint_path_dir = \"training_manual\"\n",
    "\n",
    "# 파일 이름에 번호를 포함시킵니다(`str.format` 포맷)\n",
    "cp_name = \"my_checkpoint.ckpt\"\n",
    "if not(os.path.exists(checkpoint_path_dir)):\n",
    "  os.mkdir(checkpoint_path_dir)\n",
    "  print(\"Create Directory!\")\n",
    "\n",
    "checkpoint_path = os.path.join(checkpoint_path_dir, cp_name)\n",
    "\n",
    "# 학습\n",
    "model_manual.fit(x_train, \n",
    "          y_train,  \n",
    "          epochs=EPOCHS,\n",
    "          validation_data=(x_test,y_test))\n",
    "\n",
    "# 가중치를 저장합니다\n",
    "# save_weights는 수동으로 가중치를 저장\n",
    "model_manual.save_weights(checkpoint_path)\n",
    "\n",
    "# 새로운 모델 객체를 만듭니다\n",
    "model_manual_test = build(x_train.shape[1:])\n",
    "model_manual_test.compile(optimizer=\"adam\", loss=\"categorical_crossentropy\", metrics = ['acc'])# loss function settings\n",
    "\n",
    "# 가중치를 복원합니다\n",
    "model_manual_test.load_weights(checkpoint_path)\n",
    "\n",
    "# 모델을 평가합니다\n",
    "loss,acc = model_manual_test.evaluate(x_test,  y_test, verbose=2)\n",
    "print(\"복원된 모델의 정확도: {:5.2f}%\".format(100*acc))"
   ]
  },
  {
   "cell_type": "markdown",
   "metadata": {
    "id": "iWO9A7RT3552"
   },
   "source": [
    "## 1.3. 전체 모델 저장하기\n",
    "- model.save 메서드를 호출하여 `모델의 구조, 가중치, 훈련 설정`을 하나의 파일/폴더에 저장합니다\n",
    "\n",
    "- refer to https://www.tensorflow.org/tutorials/keras/save_and_load?hl=ko#%EC%B2%B4%ED%81%AC%ED%8F%AC%EC%9D%B8%ED%8A%B8_%EC%BD%9C%EB%B0%B1_%EB%A7%A4%EA%B0%9C%EB%B3%80%EC%88%98"
   ]
  },
  {
   "cell_type": "code",
   "execution_count": 17,
   "metadata": {
    "executionInfo": {
     "elapsed": 10,
     "status": "ok",
     "timestamp": 1633961001157,
     "user": {
      "displayName": "양재완",
      "photoUrl": "https://lh3.googleusercontent.com/a/default-user=s64",
      "userId": "15048436168355041958"
     },
     "user_tz": -540
    },
    "id": "iHz-ONCE5a57"
   },
   "outputs": [],
   "source": [
    "# 사용 모델 정의\n",
    "model_all = build(x_train.shape[1:])\n",
    "model_all.compile(optimizer=\"adam\", loss=\"categorical_crossentropy\", metrics = ['acc'])# loss function settings"
   ]
  },
  {
   "cell_type": "code",
   "execution_count": 18,
   "metadata": {
    "colab": {
     "base_uri": "https://localhost:8080/"
    },
    "executionInfo": {
     "elapsed": 42932,
     "status": "ok",
     "timestamp": 1633961044080,
     "user": {
      "displayName": "양재완",
      "photoUrl": "https://lh3.googleusercontent.com/a/default-user=s64",
      "userId": "15048436168355041958"
     },
     "user_tz": -540
    },
    "id": "l4aB3eJF6JXI",
    "outputId": "f92f07fd-d0ba-4027-9166-62d810a25f2e"
   },
   "outputs": [
    {
     "name": "stdout",
     "output_type": "stream",
     "text": [
      "Epoch 1/3\n",
      "1875/1875 [==============================] - 7s 3ms/step - loss: 0.1168 - acc: 0.9647 - val_loss: 0.0582 - val_acc: 0.9807\n",
      "Epoch 2/3\n",
      "1875/1875 [==============================] - 6s 3ms/step - loss: 0.0433 - acc: 0.9862 - val_loss: 0.0413 - val_acc: 0.9853\n",
      "Epoch 3/3\n",
      "1875/1875 [==============================] - 6s 3ms/step - loss: 0.0277 - acc: 0.9909 - val_loss: 0.0430 - val_acc: 0.9862\n",
      "Create Directory!\n",
      "WARNING:tensorflow:From C:\\ProgramData\\Anaconda3\\envs\\kaggle\\lib\\site-packages\\tensorflow\\python\\training\\tracking\\tracking.py:111: Model.state_updates (from tensorflow.python.keras.engine.training) is deprecated and will be removed in a future version.\n",
      "Instructions for updating:\n",
      "This property should not be used in TensorFlow 2.0, as updates are applied automatically.\n",
      "WARNING:tensorflow:From C:\\ProgramData\\Anaconda3\\envs\\kaggle\\lib\\site-packages\\tensorflow\\python\\training\\tracking\\tracking.py:111: Layer.updates (from tensorflow.python.keras.engine.base_layer) is deprecated and will be removed in a future version.\n",
      "Instructions for updating:\n",
      "This property should not be used in TensorFlow 2.0, as updates are applied automatically.\n",
      "INFO:tensorflow:Assets written to: ./training_all/model_all\\assets\n"
     ]
    }
   ],
   "source": [
    "# 학습\n",
    "model_all.fit(x_train, \n",
    "          y_train,  \n",
    "          epochs=EPOCHS,\n",
    "          validation_data=(x_test,y_test))\n",
    "\n",
    "# 저장\n",
    "checkpoint_path_dir = \"training_all\"\n",
    "if not(os.path.exists(checkpoint_path_dir)):\n",
    "  os.mkdir(checkpoint_path_dir)\n",
    "  print(\"Create Directory!\")\n",
    "\n",
    "model_all.save('./training_all/model_all')"
   ]
  },
  {
   "cell_type": "code",
   "execution_count": 19,
   "metadata": {
    "executionInfo": {
     "elapsed": 371,
     "status": "ok",
     "timestamp": 1633961044448,
     "user": {
      "displayName": "양재완",
      "photoUrl": "https://lh3.googleusercontent.com/a/default-user=s64",
      "userId": "15048436168355041958"
     },
     "user_tz": -540
    },
    "id": "LAIL6zej6f6q"
   },
   "outputs": [],
   "source": [
    "model_all_test = tf.keras.models.load_model('training_all/model_all')"
   ]
  },
  {
   "cell_type": "code",
   "execution_count": 20,
   "metadata": {
    "colab": {
     "base_uri": "https://localhost:8080/"
    },
    "executionInfo": {
     "elapsed": 3,
     "status": "ok",
     "timestamp": 1633961044448,
     "user": {
      "displayName": "양재완",
      "photoUrl": "https://lh3.googleusercontent.com/a/default-user=s64",
      "userId": "15048436168355041958"
     },
     "user_tz": -540
    },
    "id": "pr2na1mC64P8",
    "outputId": "d65108e5-b911-4868-d248-e7c8688f0a3c"
   },
   "outputs": [
    {
     "name": "stdout",
     "output_type": "stream",
     "text": [
      "Model: \"functional_11\"\n",
      "_________________________________________________________________\n",
      "Layer (type)                 Output Shape              Param #   \n",
      "=================================================================\n",
      "input_6 (InputLayer)         [(None, 28, 28, 1)]       0         \n",
      "_________________________________________________________________\n",
      "conv2d_10 (Conv2D)           (None, 28, 28, 32)        320       \n",
      "_________________________________________________________________\n",
      "activation_15 (Activation)   (None, 28, 28, 32)        0         \n",
      "_________________________________________________________________\n",
      "conv2d_11 (Conv2D)           (None, 28, 28, 64)        18496     \n",
      "_________________________________________________________________\n",
      "activation_16 (Activation)   (None, 28, 28, 64)        0         \n",
      "_________________________________________________________________\n",
      "flatten_5 (Flatten)          (None, 50176)             0         \n",
      "_________________________________________________________________\n",
      "dense_5 (Dense)              (None, 10)                501770    \n",
      "_________________________________________________________________\n",
      "activation_17 (Activation)   (None, 10)                0         \n",
      "=================================================================\n",
      "Total params: 520,586\n",
      "Trainable params: 520,586\n",
      "Non-trainable params: 0\n",
      "_________________________________________________________________\n"
     ]
    }
   ],
   "source": [
    "model_all_test.summary()"
   ]
  },
  {
   "cell_type": "code",
   "execution_count": 21,
   "metadata": {
    "colab": {
     "base_uri": "https://localhost:8080/"
    },
    "executionInfo": {
     "elapsed": 1419,
     "status": "ok",
     "timestamp": 1633961045865,
     "user": {
      "displayName": "양재완",
      "photoUrl": "https://lh3.googleusercontent.com/a/default-user=s64",
      "userId": "15048436168355041958"
     },
     "user_tz": -540
    },
    "id": "RIwXT7iF65ei",
    "outputId": "5ccc3f77-de95-47d2-d06d-429c5a46a111"
   },
   "outputs": [
    {
     "name": "stdout",
     "output_type": "stream",
     "text": [
      "313/313 - 1s - loss: 0.0430 - acc: 0.9862\n",
      "복원된 모델의 정확도: 98.62%\n"
     ]
    }
   ],
   "source": [
    "# 모델을 평가합니다\n",
    "loss,acc = model_all_test.evaluate(x_test,  y_test, verbose=2)\n",
    "print(\"복원된 모델의 정확도: {:5.2f}%\".format(100*acc))"
   ]
  },
  {
   "cell_type": "markdown",
   "metadata": {
    "id": "agYEz1Pk6_Tn"
   },
   "source": [
    "## 2. 체크 포인트 저장하기 with tf.GradientTape() as tape"
   ]
  },
  {
   "cell_type": "markdown",
   "metadata": {
    "id": "FEYwZNb17sUd"
   },
   "source": [
    "refer to https://www.tensorflow.org/guide/checkpoint?hl=ko"
   ]
  },
  {
   "cell_type": "code",
   "execution_count": 22,
   "metadata": {
    "executionInfo": {
     "elapsed": 6,
     "status": "ok",
     "timestamp": 1633961045865,
     "user": {
      "displayName": "양재완",
      "photoUrl": "https://lh3.googleusercontent.com/a/default-user=s64",
      "userId": "15048436168355041958"
     },
     "user_tz": -540
    },
    "id": "DBU08TTw8pz0"
   },
   "outputs": [],
   "source": [
    "# 사용 모델 정의\n",
    "model_tape = build(x_train.shape[1:])"
   ]
  },
  {
   "cell_type": "code",
   "execution_count": 23,
   "metadata": {
    "colab": {
     "base_uri": "https://localhost:8080/"
    },
    "executionInfo": {
     "elapsed": 5,
     "status": "ok",
     "timestamp": 1633961045865,
     "user": {
      "displayName": "양재완",
      "photoUrl": "https://lh3.googleusercontent.com/a/default-user=s64",
      "userId": "15048436168355041958"
     },
     "user_tz": -540
    },
    "id": "H1_Bmfwl7TTU",
    "outputId": "ce905082-67c7-4c96-e556-f29ca190adf2"
   },
   "outputs": [
    {
     "name": "stdout",
     "output_type": "stream",
     "text": [
      "Create Directory!\n"
     ]
    }
   ],
   "source": [
    "opt = tf.keras.optimizers.Adam(1e-3)\n",
    "loss_object = tf.keras.losses.CategoricalCrossentropy() # one-hot vector에 사용\n",
    "train_loss = tf.keras.metrics.Mean('train_loss', dtype=tf.float32)\n",
    "train_accuracy = tf.keras.metrics.CategoricalAccuracy('train_accuracy')\n",
    "\n",
    "# 저장\n",
    "checkpoint_path_dir = \"training_tape\"\n",
    "if not(os.path.exists(checkpoint_path_dir)):\n",
    "  os.mkdir(checkpoint_path_dir)\n",
    "  print(\"Create Directory!\")\n",
    "\n",
    "# set checkpoint manager\n",
    "ckpt = tf.train.Checkpoint(step=tf.Variable(0), model=model_tape)\n",
    "# max_to_keep: 최대 ckpt를 몇 개만 저장할 것인가\n",
    "ckpt_manager = tf.train.CheckpointManager(ckpt,\n",
    "                                        directory=checkpoint_path_dir,\n",
    "                                        max_to_keep=None)\n",
    "latest_ckpt = tf.train.latest_checkpoint(checkpoint_path_dir)"
   ]
  },
  {
   "cell_type": "code",
   "execution_count": 24,
   "metadata": {
    "executionInfo": {
     "elapsed": 3,
     "status": "ok",
     "timestamp": 1633961045866,
     "user": {
      "displayName": "양재완",
      "photoUrl": "https://lh3.googleusercontent.com/a/default-user=s64",
      "userId": "15048436168355041958"
     },
     "user_tz": -540
    },
    "id": "P5htTo1B7myu"
   },
   "outputs": [],
   "source": [
    "def train_step(net, x_data, y_data, optimizer):\n",
    "  \"\"\"Trains `net` on `example` using `optimizer`.\"\"\"\n",
    "  with tf.GradientTape() as tape:\n",
    "    predictions = net(x_data, training=True)\n",
    "    loss = loss_object(y_data, predictions)\n",
    "  grads = tape.gradient(loss, net.trainable_variables)\n",
    "  optimizer.apply_gradients(zip(grads, net.trainable_variables))\n",
    "\n",
    "  train_accuracy(y_data, predictions)\n",
    "  train_loss(loss)\n",
    "\n",
    "  return loss"
   ]
  },
  {
   "cell_type": "code",
   "execution_count": 25,
   "metadata": {
    "executionInfo": {
     "elapsed": 4,
     "status": "ok",
     "timestamp": 1633961046241,
     "user": {
      "displayName": "양재완",
      "photoUrl": "https://lh3.googleusercontent.com/a/default-user=s64",
      "userId": "15048436168355041958"
     },
     "user_tz": -540
    },
    "id": "hO3LvHxi7d5J"
   },
   "outputs": [],
   "source": [
    "def train_and_checkpoint(net, manager, opt, ckpt):\n",
    "  try:\n",
    "    ckpt.restore(manager.latest_checkpoint)\n",
    "    if manager.latest_checkpoint:\n",
    "      print(\"Restored from {}\".format(manager.latest_checkpoint))\n",
    "    else:\n",
    "      print(\"Initializing from scratch.\")\n",
    "  except:\n",
    "    pass\n",
    "\n",
    "  batch = x_train.shape[0] // BATCH_SIZE\n",
    "  \n",
    "  for epoch in range(EPOCHS):\n",
    "    epoch_loss = []\n",
    "    for i in range(batch):\n",
    "      x_data, y_data = x_train[i*BATCH_SIZE:(i+1)*BATCH_SIZE], y_train[i*BATCH_SIZE:(i+1)*BATCH_SIZE]\n",
    "      loss = train_step(net, x_data, y_data, opt)\n",
    "      epoch_loss.append(loss)\n",
    "      ckpt.step.assign_add(1)\n",
    "      if int(ckpt.step) % 10 == 0:\n",
    "        save_path = manager.save(checkpoint_number=ckpt.step)\n",
    "        print(\"\\rSaved checkpoint for step {}: {}\".format(int(ckpt.step), save_path), end='')\n",
    "        # print(\"\\rloss {:1.2f}\".format(loss.numpy()), end='')\n",
    "\n",
    "    template = 'Epoch {}, Loss: {}, Accuracy: {}'\n",
    "    print('')\n",
    "    print (template.format(epoch+1,np.mean(epoch_loss), train_accuracy.result()*100))\n",
    "    \n",
    "    # Reset metrics every epoch - 매 epoch마다 reset\n",
    "    train_loss.reset_states()\n",
    "    train_accuracy.reset_states()"
   ]
  },
  {
   "cell_type": "code",
   "execution_count": 26,
   "metadata": {
    "colab": {
     "base_uri": "https://localhost:8080/"
    },
    "executionInfo": {
     "elapsed": 26677,
     "status": "ok",
     "timestamp": 1633961072914,
     "user": {
      "displayName": "양재완",
      "photoUrl": "https://lh3.googleusercontent.com/a/default-user=s64",
      "userId": "15048436168355041958"
     },
     "user_tz": -540
    },
    "id": "Y8HljygY9XGs",
    "outputId": "d7b97a86-c41e-4d98-ee61-02749cd9a7aa"
   },
   "outputs": [
    {
     "name": "stdout",
     "output_type": "stream",
     "text": [
      "Initializing from scratch.\n",
      "Saved checkpoint for step 230: training_tape\\ckpt-230\n",
      "Epoch 1, Loss: 0.24101538956165314, Accuracy: 93.25421142578125\n",
      "Saved checkpoint for step 460: training_tape\\ckpt-460\n",
      "Epoch 2, Loss: 0.06632483750581741, Accuracy: 97.99345397949219\n",
      "Saved checkpoint for step 700: training_tape\\ckpt-700\n",
      "Epoch 3, Loss: 0.04517380893230438, Accuracy: 98.64449310302734\n"
     ]
    }
   ],
   "source": [
    "train_and_checkpoint(model_tape, ckpt_manager, opt, ckpt)"
   ]
  },
  {
   "cell_type": "code",
   "execution_count": 27,
   "metadata": {
    "colab": {
     "base_uri": "https://localhost:8080/"
    },
    "executionInfo": {
     "elapsed": 446,
     "status": "ok",
     "timestamp": 1633961073350,
     "user": {
      "displayName": "양재완",
      "photoUrl": "https://lh3.googleusercontent.com/a/default-user=s64",
      "userId": "15048436168355041958"
     },
     "user_tz": -540
    },
    "id": "n5rroO83GRal",
    "outputId": "6dac5d20-ec0e-410f-9f4a-b619a67a1c78"
   },
   "outputs": [
    {
     "name": "stdout",
     "output_type": "stream",
     "text": [
      "global_step : 700, checkpoint is restored!\n"
     ]
    }
   ],
   "source": [
    "model_tape_test = build(x_train.shape[1:])\n",
    "\n",
    "# set checkpoint manager\n",
    "ckpt_test = tf.train.Checkpoint(step=tf.Variable(0), model=model_tape_test)\n",
    "latest_ckpt = tf.train.latest_checkpoint(checkpoint_path_dir)\n",
    "\n",
    "# restore latest checkpoint\n",
    "if latest_ckpt:\n",
    "  ckpt_test.restore(latest_ckpt)\n",
    "  print('global_step : {}, checkpoint is restored!'.format(int(ckpt_test.step)))\n"
   ]
  },
  {
   "cell_type": "code",
   "execution_count": 28,
   "metadata": {
    "executionInfo": {
     "elapsed": 3,
     "status": "ok",
     "timestamp": 1633961073351,
     "user": {
      "displayName": "양재완",
      "photoUrl": "https://lh3.googleusercontent.com/a/default-user=s64",
      "userId": "15048436168355041958"
     },
     "user_tz": -540
    },
    "id": "X-gff3gYpYOW"
   },
   "outputs": [],
   "source": [
    "def compute_accuracy(y_pred, y):\n",
    "  correct_prediction = tf.equal(tf.argmax(y_pred,1), tf.argmax(y,1))\n",
    "  accuracy = tf.reduce_mean(tf.cast(correct_prediction, tf.float32))\n",
    "\n",
    "  return accuracy"
   ]
  },
  {
   "cell_type": "code",
   "execution_count": 29,
   "metadata": {
    "executionInfo": {
     "elapsed": 1390,
     "status": "ok",
     "timestamp": 1633961074738,
     "user": {
      "displayName": "양재완",
      "photoUrl": "https://lh3.googleusercontent.com/a/default-user=s64",
      "userId": "15048436168355041958"
     },
     "user_tz": -540
    },
    "id": "-3Kwp0pJpbfo"
   },
   "outputs": [],
   "source": [
    "acc = compute_accuracy(model_tape_test(x_test[:1000]), y_test[:1000]) # 용량으로 인한 일부 test"
   ]
  },
  {
   "cell_type": "code",
   "execution_count": 30,
   "metadata": {
    "colab": {
     "base_uri": "https://localhost:8080/"
    },
    "executionInfo": {
     "elapsed": 7,
     "status": "ok",
     "timestamp": 1633961074738,
     "user": {
      "displayName": "양재완",
      "photoUrl": "https://lh3.googleusercontent.com/a/default-user=s64",
      "userId": "15048436168355041958"
     },
     "user_tz": -540
    },
    "id": "1EoXzrdKGvw_",
    "outputId": "0deab824-4153-4359-8eef-fd04f0f864c1"
   },
   "outputs": [
    {
     "name": "stdout",
     "output_type": "stream",
     "text": [
      "복원된 모델의 정확도: 97.80%\n"
     ]
    }
   ],
   "source": [
    "# 모델 재평가\n",
    "print(\"복원된 모델의 정확도: {:5.2f}%\".format(100*acc))"
   ]
  },
  {
   "cell_type": "code",
   "execution_count": null,
   "metadata": {
    "executionInfo": {
     "elapsed": 4,
     "status": "ok",
     "timestamp": 1633961074739,
     "user": {
      "displayName": "양재완",
      "photoUrl": "https://lh3.googleusercontent.com/a/default-user=s64",
      "userId": "15048436168355041958"
     },
     "user_tz": -540
    },
    "id": "_V3XyVxDI83L"
   },
   "outputs": [],
   "source": []
  }
 ],
 "metadata": {
  "accelerator": "GPU",
  "colab": {
   "authorship_tag": "ABX9TyNyRQrsRKA/TRGOWHj4aszU",
   "collapsed_sections": [],
   "name": "model_save_and_reuse.ipynb",
   "provenance": []
  },
  "kernelspec": {
   "display_name": "Python 3",
   "language": "python",
   "name": "python3"
  },
  "language_info": {
   "codemirror_mode": {
    "name": "ipython",
    "version": 3
   },
   "file_extension": ".py",
   "mimetype": "text/x-python",
   "name": "python",
   "nbconvert_exporter": "python",
   "pygments_lexer": "ipython3",
   "version": "3.7.0"
  },
  "toc": {
   "base_numbering": 1,
   "nav_menu": {},
   "number_sections": true,
   "sideBar": true,
   "skip_h1_title": false,
   "title_cell": "Table of Contents",
   "title_sidebar": "Contents",
   "toc_cell": false,
   "toc_position": {},
   "toc_section_display": true,
   "toc_window_display": false
  }
 },
 "nbformat": 4,
 "nbformat_minor": 1
}
