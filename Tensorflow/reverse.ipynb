{
 "cells": [
  {
   "cell_type": "code",
   "execution_count": 1,
   "metadata": {},
   "outputs": [
    {
     "name": "stdout",
     "output_type": "stream",
     "text": [
      "1.4.0\n"
     ]
    }
   ],
   "source": [
    "import tensorflow as tf\n",
    "\n",
    "print(tf.__version__)"
   ]
  },
  {
   "cell_type": "markdown",
   "metadata": {},
   "source": [
    "# tf.reverse(tensor,axis, name=None)\n",
    "주어진 tensor를 axis에 따라 반전시킨다<br/>\n",
    "axis는 [0,1,2] or [True, False]와 같은 값을 가지며 해당 tensor의 차원을 반전시킨다<br/>"
   ]
  },
  {
   "cell_type": "code",
   "execution_count": 2,
   "metadata": {},
   "outputs": [],
   "source": [
    "sess = tf.Session()"
   ]
  },
  {
   "cell_type": "code",
   "execution_count": 3,
   "metadata": {},
   "outputs": [
    {
     "name": "stdout",
     "output_type": "stream",
     "text": [
      "[4 3 2 1]\n"
     ]
    }
   ],
   "source": [
    "x1 = [1,2,3,4]\n",
    "\n",
    "reverse1 = tf.reverse(x1,axis=[0])\n",
    "print(sess.run(reverse1))"
   ]
  },
  {
   "cell_type": "code",
   "execution_count": 4,
   "metadata": {},
   "outputs": [
    {
     "name": "stdout",
     "output_type": "stream",
     "text": [
      "[[5 6 7 8]\n",
      " [1 2 3 4]]\n",
      "[[4 3 2 1]\n",
      " [8 7 6 5]]\n",
      "[[8 7 6 5]\n",
      " [4 3 2 1]]\n"
     ]
    }
   ],
   "source": [
    "x2 = [[1,2,3,4],[5,6,7,8]]\n",
    "\n",
    "reverse2 = tf.reverse(x2,axis=[0])\n",
    "print(sess.run(reverse2))\n",
    "\n",
    "reverse2 = tf.reverse(x2,axis=[1])\n",
    "print(sess.run(reverse2))\n",
    "\n",
    "reverse2 = tf.reverse(x2,axis=[0,1])\n",
    "print(sess.run(reverse2))"
   ]
  },
  {
   "cell_type": "code",
   "execution_count": 5,
   "metadata": {},
   "outputs": [
    {
     "name": "stdout",
     "output_type": "stream",
     "text": [
      "[[[1 2 3 4]\n",
      "  [5 6 7 8]]]\n",
      "[[[5 6 7 8]\n",
      "  [1 2 3 4]]]\n",
      "[[[4 3 2 1]\n",
      "  [8 7 6 5]]]\n",
      "[[[8 7 6 5]\n",
      "  [4 3 2 1]]]\n"
     ]
    }
   ],
   "source": [
    "x2 = [[[1,2,3,4],[5,6,7,8]]]\n",
    "\n",
    "reverse2 = tf.reverse(x2,axis=[0])\n",
    "print(sess.run(reverse2))\n",
    "\n",
    "reverse2 = tf.reverse(x2,axis=[1])\n",
    "print(sess.run(reverse2))\n",
    "\n",
    "reverse2 = tf.reverse(x2,axis=[2])\n",
    "print(sess.run(reverse2))\n",
    "\n",
    "reverse2 = tf.reverse(x2,axis=[1,2])\n",
    "print(sess.run(reverse2))"
   ]
  }
 ],
 "metadata": {
  "kernelspec": {
   "display_name": "Python 3",
   "language": "python",
   "name": "python3"
  },
  "language_info": {
   "codemirror_mode": {
    "name": "ipython",
    "version": 3
   },
   "file_extension": ".py",
   "mimetype": "text/x-python",
   "name": "python",
   "nbconvert_exporter": "python",
   "pygments_lexer": "ipython3",
   "version": "3.5.4"
  }
 },
 "nbformat": 4,
 "nbformat_minor": 2
}
