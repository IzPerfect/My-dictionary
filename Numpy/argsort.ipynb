{
 "cells": [
  {
   "cell_type": "code",
   "execution_count": 1,
   "metadata": {},
   "outputs": [],
   "source": [
    "import numpy as np"
   ]
  },
  {
   "cell_type": "markdown",
   "metadata": {},
   "source": [
    "# np.argsort(a, axis = -1, kind = 'quicksort', order = None)"
   ]
  },
  {
   "cell_type": "code",
   "execution_count": 2,
   "metadata": {},
   "outputs": [
    {
     "name": "stdout",
     "output_type": "stream",
     "text": [
      "[0 2 1 3]\n"
     ]
    }
   ],
   "source": [
    "x = np.array([1,3,2,4])\n",
    "argsort_x = np.argsort(x)\n",
    "print(argsort_x)"
   ]
  },
  {
   "cell_type": "markdown",
   "metadata": {},
   "source": [
    "argsort의 결과물은 index인데 이 index는 오름 차순인 index 결과가 나온다.\n",
    "\n",
    "위에서의 결과 [0 2 1 3]은 바로 x[0],x[2],x[1],x[3] 이며 순서대로 [1 2 3 4]이다.\n",
    "\n",
    "밑에 sort의 결과와 함께보면 이해가 더 쉽게 된다."
   ]
  },
  {
   "cell_type": "code",
   "execution_count": 3,
   "metadata": {},
   "outputs": [
    {
     "name": "stdout",
     "output_type": "stream",
     "text": [
      "[1 2 3 4]\n",
      "[1 2 3 4]\n"
     ]
    }
   ],
   "source": [
    "print(np.sort(x))\n",
    "print(x[argsort_x])"
   ]
  },
  {
   "cell_type": "markdown",
   "metadata": {},
   "source": [
    "# 1차원 이상 데이터 행렬일 경우\n",
    "axis에 따른 결과 출력 \n",
    "\n",
    "axis = 0일 경우, first axis에 따라 출력\n",
    "axis = 1일 경우, last axis에 따라 출력"
   ]
  },
  {
   "cell_type": "code",
   "execution_count": 4,
   "metadata": {},
   "outputs": [],
   "source": [
    "z = np.array([\n",
    "    [0,1,3],\n",
    "    [1,3,2],\n",
    "    [2,0,4]\n",
    "    ])\n",
    "argsort_z1 = np.argsort(z, axis=0)\n",
    "argsort_z2 = np.argsort(z, axis=1)"
   ]
  },
  {
   "cell_type": "markdown",
   "metadata": {},
   "source": [
    "axis = 0일 경우\n",
    "\n",
    "argsort_z1의 첫행의 [0 2 1]의 결과는\n",
    "각각 z[:,0], z[:,1], z[:,2]에 대한 순번 결과이다.\n",
    "\n",
    "axis = 1일 경우\n",
    "\n",
    "argsort_z2의 첫행의 [0 1 2]의 결과는\n",
    "각각 z[0,:]에 대한 순번 결과이다.\n"
   ]
  },
  {
   "cell_type": "code",
   "execution_count": 5,
   "metadata": {},
   "outputs": [
    {
     "name": "stdout",
     "output_type": "stream",
     "text": [
      "z : \n",
      " [[0 1 3]\n",
      " [1 3 2]\n",
      " [2 0 4]]\n",
      "axis = 0 결과 : \n",
      " [[0 2 1]\n",
      " [1 0 0]\n",
      " [2 1 2]]\n",
      "axis = 1 결과 : \n",
      " [[0 1 2]\n",
      " [0 2 1]\n",
      " [1 0 2]]\n"
     ]
    }
   ],
   "source": [
    "print('z : \\n',z)\n",
    "print('axis = 0 결과 : \\n',argsort_z1)\n",
    "print('axis = 1 결과 : \\n',argsort_z2)"
   ]
  }
 ],
 "metadata": {
  "kernelspec": {
   "display_name": "Python 3",
   "language": "python",
   "name": "python3"
  },
  "language_info": {
   "codemirror_mode": {
    "name": "ipython",
    "version": 3
   },
   "file_extension": ".py",
   "mimetype": "text/x-python",
   "name": "python",
   "nbconvert_exporter": "python",
   "pygments_lexer": "ipython3",
   "version": "3.5.4"
  }
 },
 "nbformat": 4,
 "nbformat_minor": 2
}
