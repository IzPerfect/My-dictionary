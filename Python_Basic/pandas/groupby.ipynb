{
 "cells": [
  {
   "cell_type": "code",
   "execution_count": 1,
   "metadata": {},
   "outputs": [],
   "source": [
    "import pandas as pd\n",
    "import warnings\n",
    "warnings.filterwarnings('ignore')"
   ]
  },
  {
   "cell_type": "code",
   "execution_count": 2,
   "metadata": {},
   "outputs": [
    {
     "name": "stdout",
     "output_type": "stream",
     "text": [
      "    Name  Age  Salary Category\n",
      "0   John   28   50000   Junior\n",
      "1   Anna   24   60000   Junior\n",
      "2  Peter   35   55000   Senior\n",
      "3  Linda   32   65000   Senior\n"
     ]
    }
   ],
   "source": [
    "df = pd.DataFrame({\n",
    "    'Name': ['John', 'Anna', 'Peter', 'Linda'],\n",
    "    'Age': [28, 24, 35, 32],\n",
    "    'Salary': [50000, 60000, 55000, 65000]\n",
    "})\n",
    "\n",
    "# Age가 30 이상이면 'Senior', 그렇지 않으면 'Junior'로 분류\n",
    "df['Category'] = df['Age'].apply(lambda x: 'Senior' if x >= 30 else 'Junior')\n",
    "print(df)"
   ]
  },
  {
   "cell_type": "code",
   "execution_count": 3,
   "metadata": {},
   "outputs": [
    {
     "name": "stdout",
     "output_type": "stream",
     "text": [
      "\n",
      "Group: Junior\n",
      "   Name  Age  Salary Category\n",
      "0  John   28   50000   Junior\n",
      "1  Anna   24   60000   Junior\n",
      "\n",
      "Group: Senior\n",
      "    Name  Age  Salary Category\n",
      "2  Peter   35   55000   Senior\n",
      "3  Linda   32   65000   Senior\n"
     ]
    }
   ],
   "source": [
    "grouped = df.groupby('Category')\n",
    "for name, group in grouped:\n",
    "    print(f\"\\nGroup: {name}\")\n",
    "    print(group)"
   ]
  },
  {
   "cell_type": "code",
   "execution_count": 4,
   "metadata": {},
   "outputs": [
    {
     "name": "stdout",
     "output_type": "stream",
     "text": [
      "             Name  Age  Salary Category\n",
      "Category                               \n",
      "Junior   0   John   28   50000   Junior\n",
      "         1   Anna   24   60000   Junior\n",
      "Senior   2  Peter   35   55000   Senior\n",
      "         3  Linda   32   65000   Senior\n"
     ]
    }
   ],
   "source": [
    "# 그룹별로 데이터를 출력\n",
    "df_grouped = grouped.apply(lambda x: x)\n",
    "print(df_grouped)"
   ]
  },
  {
   "cell_type": "code",
   "execution_count": 5,
   "metadata": {},
   "outputs": [
    {
     "name": "stdout",
     "output_type": "stream",
     "text": [
      "  Category  Salary\n",
      "0   Junior  110000\n",
      "1   Senior  120000\n"
     ]
    }
   ],
   "source": [
    "# 그룹화하여 Salary 합계 계산\n",
    "df_grouped = df.groupby('Category')['Salary'].sum().reset_index()\n",
    "print(df_grouped)"
   ]
  },
  {
   "cell_type": "markdown",
   "metadata": {},
   "source": [
    "여러 함수로 그룹화 후 집계"
   ]
  },
  {
   "cell_type": "code",
   "execution_count": 6,
   "metadata": {},
   "outputs": [
    {
     "name": "stdout",
     "output_type": "stream",
     "text": [
      "  Category   Age  Salary\n",
      "0   Junior  26.0  110000\n",
      "1   Senior  33.5  120000\n"
     ]
    }
   ],
   "source": [
    "# Category 별로 Age의 평균과 Salary의 합계 계산\n",
    "df_grouped = df.groupby('Category').agg({'Age': 'mean', 'Salary': 'sum'}).reset_index()\n",
    "print(df_grouped)"
   ]
  },
  {
   "cell_type": "markdown",
   "metadata": {},
   "source": [
    "그룹별 사용자 정의 함수 적용"
   ]
  },
  {
   "cell_type": "code",
   "execution_count": 7,
   "metadata": {},
   "outputs": [
    {
     "name": "stdout",
     "output_type": "stream",
     "text": [
      "  Category  Max Salary  Age Ratio\n",
      "0   Junior     60000.0   0.000473\n",
      "1   Senior     65000.0   0.000558\n"
     ]
    }
   ],
   "source": [
    "# 그룹별로 Salary의 최대값과 Age를 기준으로 새로운 계산 적용\n",
    "def custom_agg(group):\n",
    "    return pd.Series({\n",
    "        'Max Salary': group['Salary'].max(),\n",
    "        'Age Ratio': group['Age'].mean() / group['Salary'].mean()\n",
    "    })\n",
    "\n",
    "df_grouped = df.groupby('Category').apply(custom_agg).reset_index()\n",
    "print(df_grouped)\n"
   ]
  },
  {
   "cell_type": "markdown",
   "metadata": {},
   "source": [
    "그룹별 필터링"
   ]
  },
  {
   "cell_type": "code",
   "execution_count": 8,
   "metadata": {},
   "outputs": [
    {
     "name": "stdout",
     "output_type": "stream",
     "text": [
      "    Name  Age  Salary Category\n",
      "2  Peter   35   55000   Senior\n",
      "3  Linda   32   65000   Senior\n"
     ]
    }
   ],
   "source": [
    "# 평균 나이가 30을 초과하는 그룹만 필터링\n",
    "df_filtered = df.groupby('Category').filter(lambda x: x['Age'].mean() > 30)\n",
    "print(df_filtered)\n"
   ]
  },
  {
   "cell_type": "code",
   "execution_count": 9,
   "metadata": {},
   "outputs": [
    {
     "name": "stdout",
     "output_type": "stream",
     "text": [
      "    Name  Age  Salary Category  Avg Salary by Category\n",
      "0   John   28   50000   Junior                 55000.0\n",
      "1   Anna   24   60000   Junior                 55000.0\n",
      "2  Peter   35   55000   Senior                 60000.0\n",
      "3  Linda   32   65000   Senior                 60000.0\n"
     ]
    }
   ],
   "source": [
    "# 그룹별 Salary의 평균을 구하고, 원래 데이터프레임의 각 행에 그 값을 추가\n",
    "df['Avg Salary by Category'] = df.groupby('Category')['Salary'].transform('mean')\n",
    "print(df)"
   ]
  },
  {
   "cell_type": "code",
   "execution_count": 10,
   "metadata": {},
   "outputs": [
    {
     "name": "stdout",
     "output_type": "stream",
     "text": [
      "    Name  Age  Salary Category  Avg Salary by Category  \\\n",
      "0   John   28   50000   Junior                 55000.0   \n",
      "1   Anna   24   60000   Junior                 55000.0   \n",
      "2  Peter   35   55000   Senior                 60000.0   \n",
      "3  Linda   32   65000   Senior                 60000.0   \n",
      "\n",
      "   Salary Rank in Category  \n",
      "0                      2.0  \n",
      "1                      1.0  \n",
      "2                      2.0  \n",
      "3                      1.0  \n"
     ]
    }
   ],
   "source": [
    "# Category 내에서 Salary의 순위를 계산\n",
    "df['Salary Rank in Category'] = df.groupby('Category')['Salary'].rank(ascending=False)\n",
    "print(df)"
   ]
  },
  {
   "cell_type": "code",
   "execution_count": null,
   "metadata": {},
   "outputs": [],
   "source": []
  }
 ],
 "metadata": {
  "kernelspec": {
   "display_name": "Python 3",
   "language": "python",
   "name": "python3"
  },
  "language_info": {
   "codemirror_mode": {
    "name": "ipython",
    "version": 3
   },
   "file_extension": ".py",
   "mimetype": "text/x-python",
   "name": "python",
   "nbconvert_exporter": "python",
   "pygments_lexer": "ipython3",
   "version": "3.10.11"
  }
 },
 "nbformat": 4,
 "nbformat_minor": 2
}
