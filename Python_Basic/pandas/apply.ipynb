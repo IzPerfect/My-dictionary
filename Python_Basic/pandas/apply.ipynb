{
 "cells": [
  {
   "cell_type": "code",
   "execution_count": 1,
   "metadata": {},
   "outputs": [],
   "source": [
    "import pandas as pd"
   ]
  },
  {
   "cell_type": "code",
   "execution_count": 2,
   "metadata": {},
   "outputs": [
    {
     "name": "stdout",
     "output_type": "stream",
     "text": [
      "    Name  Age  Salary Category\n",
      "0   John   28   50000   Junior\n",
      "1   Anna   24   60000   Junior\n",
      "2  Peter   35   55000   Senior\n",
      "3  Linda   32   65000   Senior\n"
     ]
    }
   ],
   "source": [
    "# 예시 DataFrame\n",
    "df = pd.DataFrame({\n",
    "    'Name': ['John', 'Anna', 'Peter', 'Linda'],\n",
    "    'Age': [28, 24, 35, 32],\n",
    "    'Salary': [50000, 60000, 55000, 65000]\n",
    "})\n",
    "\n",
    "# Age가 30 이상이면 'Senior', 그렇지 않으면 'Junior'로 분류\n",
    "df['Category'] = df['Age'].apply(lambda x: 'Senior' if x >= 30 else 'Junior')\n",
    "print(df)\n"
   ]
  },
  {
   "cell_type": "markdown",
   "metadata": {},
   "source": [
    "## 행 함수에 적용가능"
   ]
  },
  {
   "cell_type": "code",
   "execution_count": 3,
   "metadata": {},
   "outputs": [
    {
     "name": "stdout",
     "output_type": "stream",
     "text": [
      "    Name  Age  Salary Category            Description\n",
      "0   John   28   50000   Junior   John is 28 years old\n",
      "1   Anna   24   60000   Junior   Anna is 24 years old\n",
      "2  Peter   35   55000   Senior  Peter is 35 years old\n",
      "3  Linda   32   65000   Senior  Linda is 32 years old\n"
     ]
    }
   ],
   "source": [
    "# Name과 Age를 결합하여 설명 열 추가\n",
    "df['Description'] = df.apply(lambda row: f\"{row['Name']} is {row['Age']} years old\", axis=1)\n",
    "print(df)\n"
   ]
  },
  {
   "cell_type": "markdown",
   "metadata": {},
   "source": [
    "## 복잡한 조건부 연산"
   ]
  },
  {
   "cell_type": "code",
   "execution_count": 4,
   "metadata": {},
   "outputs": [
    {
     "name": "stdout",
     "output_type": "stream",
     "text": [
      "    Name  Age  Salary     Category            Description\n",
      "0   John   28   50000     Standard   John is 28 years old\n",
      "1   Anna   24   60000    Promising   Anna is 24 years old\n",
      "2  Peter   35   55000     Standard  Peter is 35 years old\n",
      "3  Linda   32   65000  High Earner  Linda is 32 years old\n"
     ]
    }
   ],
   "source": [
    "# Age와 Salary를 기준으로 범주화\n",
    "def categorize(row):\n",
    "    if row['Age'] > 30 and row['Salary'] > 60000:\n",
    "        return 'High Earner'\n",
    "    elif row['Age'] <= 30 and row['Salary'] > 50000:\n",
    "        return 'Promising'\n",
    "    else:\n",
    "        return 'Standard'\n",
    "\n",
    "df['Category'] = df.apply(categorize, axis=1)\n",
    "print(df)\n"
   ]
  },
  {
   "cell_type": "markdown",
   "metadata": {},
   "source": [
    "## 시리즈 간 연산"
   ]
  },
  {
   "cell_type": "code",
   "execution_count": null,
   "metadata": {},
   "outputs": [],
   "source": [
    "# Age와 Salary의 비율 계산\n",
    "df['Age_to_Salary'] = df.apply(lambda row: row['Salary'] / row['Age'], axis=1)\n",
    "print(df)\n"
   ]
  }
 ],
 "metadata": {
  "kernelspec": {
   "display_name": "Python_basic-tCDbCUCd",
   "language": "python",
   "name": "python3"
  },
  "language_info": {
   "codemirror_mode": {
    "name": "ipython",
    "version": 3
   },
   "file_extension": ".py",
   "mimetype": "text/x-python",
   "name": "python",
   "nbconvert_exporter": "python",
   "pygments_lexer": "ipython3",
   "version": "3.9.0"
  }
 },
 "nbformat": 4,
 "nbformat_minor": 2
}
